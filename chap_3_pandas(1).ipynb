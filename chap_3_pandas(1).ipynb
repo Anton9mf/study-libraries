{
 "cells": [
  {
   "cell_type": "code",
   "execution_count": 41,
   "metadata": {},
   "outputs": [
    {
     "name": "stdout",
     "output_type": "stream",
     "text": [
      "\u001b[1;31mType:\u001b[0m        module\n",
      "\u001b[1;31mString form:\u001b[0m <module 'pandas' from 'd:\\\\Python\\\\Lib\\\\site-packages\\\\pandas\\\\__init__.py'>\n",
      "\u001b[1;31mFile:\u001b[0m        d:\\python\\lib\\site-packages\\pandas\\__init__.py\n",
      "\u001b[1;31mDocstring:\u001b[0m  \n",
      "pandas - a powerful data analysis and manipulation library for Python\n",
      "=====================================================================\n",
      "\n",
      "**pandas** is a Python package providing fast, flexible, and expressive data\n",
      "structures designed to make working with \"relational\" or \"labeled\" data both\n",
      "easy and intuitive. It aims to be the fundamental high-level building block for\n",
      "doing practical, **real world** data analysis in Python. Additionally, it has\n",
      "the broader goal of becoming **the most powerful and flexible open source data\n",
      "analysis / manipulation tool available in any language**. It is already well on\n",
      "its way toward this goal.\n",
      "\n",
      "Main Features\n",
      "-------------\n",
      "Here are just a few of the things that pandas does well:\n",
      "\n",
      "  - Easy handling of missing data in floating point as well as non-floating\n",
      "    point data.\n",
      "  - Size mutability: columns can be inserted and deleted from DataFrame and\n",
      "    higher dimensional objects\n",
      "  - Automatic and explicit data alignment: objects can be explicitly aligned\n",
      "    to a set of labels, or the user can simply ignore the labels and let\n",
      "    `Series`, `DataFrame`, etc. automatically align the data for you in\n",
      "    computations.\n",
      "  - Powerful, flexible group by functionality to perform split-apply-combine\n",
      "    operations on data sets, for both aggregating and transforming data.\n",
      "  - Make it easy to convert ragged, differently-indexed data in other Python\n",
      "    and NumPy data structures into DataFrame objects.\n",
      "  - Intelligent label-based slicing, fancy indexing, and subsetting of large\n",
      "    data sets.\n",
      "  - Intuitive merging and joining data sets.\n",
      "  - Flexible reshaping and pivoting of data sets.\n",
      "  - Hierarchical labeling of axes (possible to have multiple labels per tick).\n",
      "  - Robust IO tools for loading data from flat files (CSV and delimited),\n",
      "    Excel files, databases, and saving/loading data from the ultrafast HDF5\n",
      "    format.\n",
      "  - Time series-specific functionality: date range generation and frequency\n",
      "    conversion, moving window statistics, date shifting and lagging."
     ]
    }
   ],
   "source": [
    "import numpy as np\n",
    "import pandas as pd\n",
    "\n",
    "pd?"
   ]
  },
  {
   "attachments": {},
   "cell_type": "markdown",
   "metadata": {},
   "source": [
    "Oбъект Series, аналог одномерного массива numpy"
   ]
  },
  {
   "cell_type": "code",
   "execution_count": 42,
   "metadata": {},
   "outputs": [
    {
     "name": "stdout",
     "output_type": "stream",
     "text": [
      "[ 0.   1.   1.5 23.  12. ] <class 'numpy.ndarray'> RangeIndex(start=0, stop=5, step=1) <class 'pandas.core.indexes.range.RangeIndex'>\n",
      "1.5 \n",
      " 0     0.0\n",
      "1     1.0\n",
      "2     1.5\n",
      "3    23.0\n",
      "4    12.0\n",
      "dtype: float64\n"
     ]
    }
   ],
   "source": [
    "data = pd.Series([0, 1, 1.5, 23, 12])\n",
    "print(data.values, type(data.values), data.index, type(data.index)) # индексируется типа\n",
    "print(data[2], '\\n', data[:])"
   ]
  },
  {
   "cell_type": "code",
   "execution_count": 43,
   "metadata": {},
   "outputs": [
    {
     "name": "stdout",
     "output_type": "stream",
     "text": [
      "a     0.0\n",
      "b     1.0\n",
      "c     1.5\n",
      "d    23.0\n",
      "e    12.0\n",
      "dtype: float64 1.5 15\n",
      "Msk    10000000\n",
      "Spb     5000000\n",
      "Nsk     1500000\n",
      "dtype: int64 1500000 Msk    10000000\n",
      "Spb     5000000\n",
      "dtype: int64\n",
      "1    5\n",
      "2    5\n",
      "3    5\n",
      "dtype: int64\n",
      "1    a\n",
      "4    b\n",
      "dtype: object\n"
     ]
    }
   ],
   "source": [
    "data = pd.Series([0, 1, 1.5, 23, 12], index=['a', 'b', 'c', 'd', 'e']) # индексируется явно\n",
    "df = pd.Series([0, 15, 13], index=[0, 1000, 12]) # пофиг какие индексы\n",
    "print(data, data['c'], df[1000])\n",
    "population = {'Msk': 10000000,\n",
    "        'Spb': 5000000,\n",
    "        'Nsk': 1500000}\n",
    "population = pd.Series(population) # словарь это pd.Series, но для бедных\n",
    "print(population, population['Nsk'], population['Msk':'Spb']) # pd.Series поддерживает срезы\n",
    "repeat_data = pd.Series(5, index=[1, 2, 3]) #repeat = повторить\n",
    "print(repeat_data)\n",
    "weird_data = pd.Series({5:'v', 3:'d', 2:'c', 4:'b', 1:'a'}, index=[1, 4]) # индекс из словаря можно указать вручную\n",
    "print(weird_data)"
   ]
  },
  {
   "attachments": {},
   "cell_type": "markdown",
   "metadata": {},
   "source": [
    "Объект DataFrame, аналог двумерного массива numpy"
   ]
  },
  {
   "cell_type": "code",
   "execution_count": 44,
   "metadata": {},
   "outputs": [
    {
     "name": "stdout",
     "output_type": "stream",
     "text": [
      "     population   river\n",
      "Msk    10000000  Moskva\n",
      "Spb     5000000    Neva\n",
      "Nsk     1500000      Ob Index(['Msk', 'Spb', 'Nsk'], dtype='object') Index(['population', 'river'], dtype='object') \n",
      " Msk    Moskva\n",
      "Spb      Neva\n",
      "Nsk        Ob\n",
      "Name: river, dtype: object\n"
     ]
    }
   ],
   "source": [
    "# DataFrame это как упорядоченная последовательность Series\n",
    "population = {'Msk': 10000000,\n",
    "        'Spb': 5000000,\n",
    "        'Nsk': 1500000}\n",
    "river = {'Msk': 'Moskva',\n",
    "        'Spb': 'Neva',\n",
    "        'Nsk': 'Ob'}\n",
    "cities = pd.DataFrame({'population': population,\n",
    "                      'river': river})\n",
    "print(cities, cities.index, cities.columns,'\\n', cities['river'])"
   ]
  },
  {
   "cell_type": "code",
   "execution_count": 45,
   "metadata": {},
   "outputs": [],
   "source": [
    "# создание DataFrame\n",
    "population = pd.Series(population)\n",
    "df1 = pd.DataFrame(population, columns=['population']) # из 1 объекта Series\n",
    "df2 = [{'a': i + 1, 'b': i ** i, 'c': 7} for i in range(5)] # из списка словарей\n",
    "df2 = pd.DataFrame(df2)\n",
    "df3 = pd.DataFrame([{'a': 1, 'c': 3, 'd': 4}, {'b': 2, 'd': 4}]) # если некоторые ключи или значения будут отсутствовать, то там окажется NaN\n",
    "df4 = pd.DataFrame({'population': population, 'river': river}) # из словаря объектов Series\n",
    "df5 = pd.DataFrame(np.random.randint(1, 101, size=(3,3)), # из двумерного массива NumPy\n",
    "                   columns=['col1', 'col2', 'col3'],\n",
    "                   index=['str1', 'str2', 'str3']) \n",
    "df6 = pd.DataFrame(np.zeros(3, dtype=[('col1', '<i8'), ('col2', '<f8')])) # из структурированного массива NumPy"
   ]
  },
  {
   "attachments": {},
   "cell_type": "markdown",
   "metadata": {},
   "source": [
    "Index"
   ]
  },
  {
   "cell_type": "code",
   "execution_count": 46,
   "metadata": {},
   "outputs": [
    {
     "data": {
      "text/plain": [
       "(Index([2, 3, 5, 45, 65, 232, 1, 2, 3, 3, 3], dtype='int64'),\n",
       " 232,\n",
       " Index([2, 45, 1, 3], dtype='int64'),\n",
       " (11,),\n",
       " 11,\n",
       " dtype('int64'))"
      ]
     },
     "execution_count": 46,
     "metadata": {},
     "output_type": "execute_result"
    }
   ],
   "source": [
    "ind = pd.Index([2, 3, 5, 45, 65, 232, 1, 2, 3, 3, 3])\n",
    "ind, ind[5], ind[::3], ind.shape, ind.size, ind.dtype\n",
    "# это неизменяемый тип данных\n",
    "# ind[0] = 1 приведет к ошибке"
   ]
  },
  {
   "cell_type": "code",
   "execution_count": 47,
   "metadata": {},
   "outputs": [
    {
     "data": {
      "text/plain": [
       "Index([-2, -2, -2, -2, -2], dtype='int64')"
      ]
     },
     "execution_count": 47,
     "metadata": {},
     "output_type": "execute_result"
    }
   ],
   "source": [
    "ind_a = pd.Index([1, 2, 3, 4, 5])\n",
    "ind_b = pd.Index([3, 4, 5, 6, 7])\n",
    "ind_a - ind_b"
   ]
  },
  {
   "cell_type": "code",
   "execution_count": 48,
   "metadata": {},
   "outputs": [
    {
     "name": "stdout",
     "output_type": "stream",
     "text": [
      "1    11\n",
      "2     2\n",
      "3     3\n",
      "a     4\n",
      "b     5\n",
      "c     2\n",
      "d     3\n",
      "5     4\n",
      "dtype: int64 Index([1, 2, 3, 'a', 'b', 'c', 'd', 5], dtype='object') [(1, 11), (2, 2), (3, 3), ('a', 4), ('b', 5), ('c', 2), ('d', 3), (5, 4)] <zip object at 0x0000024617180600> 3\n"
     ]
    },
    {
     "data": {
      "text/plain": [
       "(2,\n",
       " 2    2\n",
       " 3    3\n",
       " dtype: int64)"
      ]
     },
     "execution_count": 48,
     "metadata": {},
     "output_type": "execute_result"
    }
   ],
   "source": [
    "data = pd.Series([11, 2, 3, 4, 5, 2, 3, 4], index=[1, 2, 3, 'a', 'b', 'c', 'd', 5])\n",
    "print(data, data.keys(), list(data.items()), data.items(), data['d']) # series очень похож на словарь python\n",
    "data['e'] = 100 # можно модифицировать и добавлять элементы или изменять старые\n",
    "data['c':'e'], data[0:2], data[(data >= 3) & (data <= 100)], data[['a','d']] # series очено похож на одномерный массив numpy (индексы впридачу)\n",
    "data[1], data[1:3] # в первом случае по индексу 1 из списка индексов вызывается элемент, а во втором от 2 до 3 по неявному индексу как в list\n",
    "data.loc[1], data.loc[1:3] # с помощью атрибута loc можно заставить скрипт использовать явные индексы\n",
    "data.iloc[1], data.iloc[1:3] # с помощью атрибута iloc можно заставить скрипт использовать неявные индексы\n",
    "# лучше явно, чем неявно !!!!!!!! атрибуты loc и iloc явные по своей природе поэтому их стоит использовать"
   ]
  },
  {
   "cell_type": "code",
   "execution_count": 49,
   "metadata": {},
   "outputs": [],
   "source": [
    "import this # к принципам написания кода на питоне"
   ]
  },
  {
   "cell_type": "code",
   "execution_count": 50,
   "metadata": {},
   "outputs": [
    {
     "data": {
      "text/html": [
       "<div>\n",
       "<style scoped>\n",
       "    .dataframe tbody tr th:only-of-type {\n",
       "        vertical-align: middle;\n",
       "    }\n",
       "\n",
       "    .dataframe tbody tr th {\n",
       "        vertical-align: top;\n",
       "    }\n",
       "\n",
       "    .dataframe thead th {\n",
       "        text-align: right;\n",
       "    }\n",
       "</style>\n",
       "<table border=\"1\" class=\"dataframe\">\n",
       "  <thead>\n",
       "    <tr style=\"text-align: right;\">\n",
       "      <th></th>\n",
       "      <th>population</th>\n",
       "      <th>river</th>\n",
       "      <th>1/2population</th>\n",
       "    </tr>\n",
       "  </thead>\n",
       "  <tbody>\n",
       "    <tr>\n",
       "      <th>Msk</th>\n",
       "      <td>333</td>\n",
       "      <td>Moskva</td>\n",
       "      <td>5000000.0</td>\n",
       "    </tr>\n",
       "    <tr>\n",
       "      <th>Spb</th>\n",
       "      <td>5000000</td>\n",
       "      <td>Neva</td>\n",
       "      <td>2500000.0</td>\n",
       "    </tr>\n",
       "  </tbody>\n",
       "</table>\n",
       "</div>"
      ],
      "text/plain": [
       "     population   river  1/2population\n",
       "Msk         333  Moskva      5000000.0\n",
       "Spb     5000000    Neva      2500000.0"
      ]
     },
     "execution_count": 50,
     "metadata": {},
     "output_type": "execute_result"
    }
   ],
   "source": [
    "df = pd.DataFrame({'population': population, 'river': river})\n",
    "df, df['river'], df.river\n",
    "df['river'] is df.river # True\n",
    "# df.pop is df['pop'] False (если бы был столбец pop) df.pop  это метод pop(), поэтому df['river'] лучше\n",
    "df['1/2population'] = df['population'] / 2\n",
    "dv = df.values\n",
    "dv.T, dv[0], df['population'] # dv[0]-строка, df['population']-столбец\n",
    "df.iloc[:2, :2], df.loc[:'Spb', 'population':'river'] # названия городов это индексы, певрый столбец должен быть первым условием для явной индексации\n",
    "df.iloc[0, 0] = 333 # можно менять значения  с помощью индексации\n",
    "df['Spb':'Nsk'] # срезы относятся к строкам \n",
    "df[(df.population >= 5000000) | (df.population == 333)] # операции маскирования(отбора) интерпретируются по строкам"
   ]
  },
  {
   "cell_type": "code",
   "execution_count": 51,
   "metadata": {},
   "outputs": [
    {
     "data": {
      "text/plain": [
       "(0    52\n",
       " 1    93\n",
       " 2    15\n",
       " 3    72\n",
       " 4    61\n",
       " dtype: int32,\n",
       "      a    b   c   d   e\n",
       " a0  21   83  87  75  75\n",
       " a1  88  100  24   3  22\n",
       " a2  53    2  88  30  38\n",
       " a3   2   64  60  21  33\n",
       " a4  76   58  22  89  49,\n",
       "                a             b             c             d             e\n",
       " a0  1.318816e+09  1.112864e+36  6.076030e+37  3.733242e+32  3.733242e+32\n",
       " a1  1.651636e+38  2.688117e+43  2.648912e+10  2.008554e+01  3.584913e+09\n",
       " a2  1.041376e+23  7.389056e+00  1.651636e+38  1.068647e+13  3.185593e+16\n",
       " a3  7.389056e+00  6.235149e+27  1.142007e+26  1.318816e+09  2.146436e+14\n",
       " a4  1.014800e+33  1.545539e+25  3.584913e+09  4.489613e+38  1.907347e+21)"
      ]
     },
     "execution_count": 51,
     "metadata": {},
     "output_type": "execute_result"
    }
   ],
   "source": [
    "rng = np.random.RandomState(42)\n",
    "ser = pd.Series(rng.randint(1, 101, size=5))\n",
    "df = pd.DataFrame(rng.randint(1, 101, size=(5,5)), columns=['a', 'b', 'c', 'd', 'e'], index=['a0', 'a1', 'a2', 'a3', 'a4'])\n",
    "ser, df, np.exp(df) # прямо как в numpy"
   ]
  },
  {
   "cell_type": "code",
   "execution_count": 52,
   "metadata": {},
   "outputs": [
    {
     "data": {
      "text/plain": [
       "(place_1        NaN\n",
       " place_2    55936.0\n",
       " place_3    56375.0\n",
       " place_4        NaN\n",
       " dtype: float64,\n",
       " place_1     2114.0\n",
       " place_2    55936.0\n",
       " place_3    56375.0\n",
       " place_4    85624.0\n",
       " dtype: float64)"
      ]
     },
     "execution_count": 52,
     "metadata": {},
     "output_type": "execute_result"
    }
   ],
   "source": [
    "area = pd.Series({'place_1': 2114, 'place_2': 14524, 'place_3': 4231}, name='area')\n",
    "population = pd.Series({'place_2': 41412, 'place_3': 52144, 'place_4': 85624}, name='population')\n",
    "density = population / area\n",
    "density # объединение индексов произошло автоматически при вычислении density\n",
    "arr = area + population\n",
    "arr, area.add(population, fill_value=0) # с помощью функции add и параметра fill_value можно задать явно любое отсутствующее значение\n"
   ]
  },
  {
   "cell_type": "code",
   "execution_count": 53,
   "metadata": {},
   "outputs": [
    {
     "name": "stdout",
     "output_type": "stream",
     "text": [
      "       A      B   C\n",
      "0  106.0  119.0 NaN\n",
      "1   89.0  154.0 NaN\n",
      "2    NaN    NaN NaN\n",
      "0  A    91\n",
      "   B    59\n",
      "1  A    42\n",
      "   B    92\n",
      "dtype: int32\n"
     ]
    },
    {
     "data": {
      "text/plain": [
       "(    A   B\n",
       " 0  91  59\n",
       " 1  42  92,\n",
       " 71.0,\n",
       "        A      B      C\n",
       " 0  106.0  119.0  151.0\n",
       " 1   89.0  154.0  133.0\n",
       " 2  126.0  133.0  122.0)"
      ]
     },
     "execution_count": 53,
     "metadata": {},
     "output_type": "execute_result"
    }
   ],
   "source": [
    "A = pd.DataFrame(rng.randint(1, 101, size=(2, 2)), columns=list('AB'))\n",
    "B = pd.DataFrame(rng.randint(1, 101, size=(3, 3)), columns=list('BCA'))\n",
    "print(A + B) # автоматически выравнялись индексы (cм. порядок колонок в В)\n",
    "mean_zn = A.stack().mean() # получить среднее всех значений массива А\n",
    "print(A.stack()) # практически одномерный массив, по которому вычислилось среднее\n",
    "A, mean_zn, A.add(B, fill_value=mean_zn) \n",
    "# чтобы всегда работало одинаковое значение из модуля random нужно нажимать Run All"
   ]
  },
  {
   "cell_type": "code",
   "execution_count": 54,
   "metadata": {},
   "outputs": [
    {
     "data": {
      "text/html": [
       "<div>\n",
       "<style scoped>\n",
       "    .dataframe tbody tr th:only-of-type {\n",
       "        vertical-align: middle;\n",
       "    }\n",
       "\n",
       "    .dataframe tbody tr th {\n",
       "        vertical-align: top;\n",
       "    }\n",
       "\n",
       "    .dataframe thead th {\n",
       "        text-align: right;\n",
       "    }\n",
       "</style>\n",
       "<table border=\"1\" class=\"dataframe\">\n",
       "  <thead>\n",
       "    <tr style=\"text-align: right;\">\n",
       "      <th></th>\n",
       "      <th>A</th>\n",
       "      <th>B</th>\n",
       "    </tr>\n",
       "  </thead>\n",
       "  <tbody>\n",
       "    <tr>\n",
       "      <th>0</th>\n",
       "      <td>0</td>\n",
       "      <td>-61</td>\n",
       "    </tr>\n",
       "    <tr>\n",
       "      <th>1</th>\n",
       "      <td>0</td>\n",
       "      <td>-44</td>\n",
       "    </tr>\n",
       "  </tbody>\n",
       "</table>\n",
       "</div>"
      ],
      "text/plain": [
       "   A   B\n",
       "0  0 -61\n",
       "1  0 -44"
      ]
     },
     "execution_count": 54,
     "metadata": {},
     "output_type": "execute_result"
    }
   ],
   "source": [
    "A = pd.DataFrame(rng.randint(1, 101, size=(2, 2)), columns=list('AB'))\n",
    "A, A - A.iloc[0] # построчное вычитание первой строки из всех; прямо как в numpy\n",
    "A.subtract(A['A'], axis=0) # substract это функция вычитания, axis=0 делает операцию по столбцам\n"
   ]
  },
  {
   "attachments": {},
   "cell_type": "markdown",
   "metadata": {},
   "source": [
    "None"
   ]
  },
  {
   "cell_type": "code",
   "execution_count": 55,
   "metadata": {},
   "outputs": [
    {
     "name": "stdout",
     "output_type": "stream",
     "text": [
      "dtype= object\n",
      "-----------------------\n",
      "dtype= int\n",
      "-----------------------\n"
     ]
    }
   ],
   "source": [
    "arr = np.array([1, 2, None, 34, 12])\n",
    "arr # dtype=object\n",
    "for dtype in ['object', 'int']: # цикл показывает что вычисления с исп-м типом данных int значительно быстрее, чем типом object\n",
    "    print('dtype=', dtype)\n",
    "    #%timeit np.arange(100, dtype=dtype).sum() # долго выполняется\n",
    "    print('-----------------------')\n",
    "#arr.sum() # error так как оbject\n"
   ]
  },
  {
   "attachments": {},
   "cell_type": "markdown",
   "metadata": {},
   "source": [
    "NaN"
   ]
  },
  {
   "cell_type": "code",
   "execution_count": 56,
   "metadata": {},
   "outputs": [
    {
     "name": "stdout",
     "output_type": "stream",
     "text": [
      "nan nan nan nan nan\n",
      "49.0 1.0 34.0\n"
     ]
    }
   ],
   "source": [
    "arr = np.array([1, 2, np.nan, 34, 12])\n",
    "arr.dtype # dtype('float64') значит операции будут такими же быстрыми как обычно \n",
    "print(1 + np.nan, 4 * np.nan, arr.sum(), arr.min(), arr.max()) # nan\n",
    "print(np.nansum(arr), np.nanmin(arr), np.nanmax(arr)) # получится число с плавающей точкой\n",
    "# nan - число с плавающей точкой"
   ]
  },
  {
   "cell_type": "code",
   "execution_count": 57,
   "metadata": {},
   "outputs": [
    {
     "data": {
      "text/plain": [
       "0    1.0\n",
       "1    NaN\n",
       "2    3.0\n",
       "3    NaN\n",
       "dtype: float64"
      ]
     },
     "execution_count": 57,
     "metadata": {},
     "output_type": "execute_result"
    }
   ],
   "source": [
    "pd.Series([1, None, 3, np.nan]) # None -> NaN"
   ]
  },
  {
   "attachments": {},
   "cell_type": "markdown",
   "metadata": {},
   "source": [
    "Обработка отсутствующих значений"
   ]
  },
  {
   "cell_type": "code",
   "execution_count": 58,
   "metadata": {},
   "outputs": [
    {
     "data": {
      "text/plain": [
       "(     0     1   2   3\n",
       " 0  1.0   NaN   3 NaN\n",
       " 1  NaN   4.0   3 NaN\n",
       " 2  NaN  33.0  44 NaN,\n",
       "       1   2\n",
       " 0   NaN   3\n",
       " 1   4.0   3\n",
       " 2  33.0  44)"
      ]
     },
     "execution_count": 58,
     "metadata": {},
     "output_type": "execute_result"
    }
   ],
   "source": [
    "data = pd.DataFrame([[1, None, 3, np.nan], [np.nan, 4, 3, np.nan], [np.nan, 33, 44, 55]])\n",
    "data.isnull() # булева маска для отсутствующих значений\n",
    "data.notnull() # противоположность метода isnull()\n",
    "data.dropna() # удаляет все строки в которых встречается NaN, по умолчанию параметр how='any'\n",
    "data.dropna(axis='columns') # удаляет все столбцы в которых встречается NaN, можно использовать axis=1\n",
    "data[3] = np.nan # вставим слева столбец Nan-ов\n",
    "data, data.dropna(axis='columns', how='all') # удалит только тот столбец в котором все значения являются NaN\n",
    "data, data.dropna(axis='columns', thresh=2) # thresh задает минимальное количество NaN при котором следует удаление столбца/строки\n",
    "#data.fillna(111111) # заполняет пропуски заданным значением"
   ]
  },
  {
   "cell_type": "code",
   "execution_count": 59,
   "metadata": {},
   "outputs": [
    {
     "data": {
      "text/plain": [
       "0    1.0\n",
       "2    3.0\n",
       "dtype: float64"
      ]
     },
     "execution_count": 59,
     "metadata": {},
     "output_type": "execute_result"
    }
   ],
   "source": [
    "data = pd.Series([1, None, 3, np.nan])\n",
    "data[data.notnull()] # использование булевой маски непосредственно для индексации (получим data без NaN с начальными индексами)"
   ]
  },
  {
   "attachments": {},
   "cell_type": "markdown",
   "metadata": {},
   "source": [
    "Заполнение пустых значений"
   ]
  },
  {
   "cell_type": "code",
   "execution_count": 60,
   "metadata": {},
   "outputs": [
    {
     "data": {
      "text/plain": [
       "(     0     1   2     3\n",
       " 0  1.0   NaN   3   NaN\n",
       " 1  NaN   4.0   3   NaN\n",
       " 2  NaN  33.0  44  55.0,\n",
       "      0     1   2     3\n",
       " 0  1.0   NaN   3   NaN\n",
       " 1  1.0   4.0   3   NaN\n",
       " 2  1.0  33.0  44  55.0,\n",
       "      0     1     2     3\n",
       " 0  1.0   1.0   3.0   3.0\n",
       " 1  NaN   4.0   3.0   3.0\n",
       " 2  NaN  33.0  44.0  55.0)"
      ]
     },
     "execution_count": 60,
     "metadata": {},
     "output_type": "execute_result"
    }
   ],
   "source": [
    "data = pd.Series([1, np.nan, 2, 73, 25, None], index=list('abcdef'))\n",
    "data.fillna(0), data.fillna(method='ffill') # method='ffill' копирует предыдущее значение в ячейку с NaN\n",
    "data.fillna(method='bfill') # method='bfill' копирует следующее после значение в ячейку с NaN\n",
    "data = pd.DataFrame([[1, None, 3, np.nan], [np.nan, 4, 3, np.nan], [np.nan, 33, 44, 55]])\n",
    "data, data.fillna(method='ffill', axis=0), data.fillna(method='ffill', axis=1)"
   ]
  },
  {
   "attachments": {},
   "cell_type": "markdown",
   "metadata": {},
   "source": [
    "Иерархическая индексация"
   ]
  },
  {
   "cell_type": "code",
   "execution_count": 61,
   "metadata": {},
   "outputs": [
    {
     "data": {
      "text/plain": [
       "Series([], dtype: int64)"
      ]
     },
     "execution_count": 61,
     "metadata": {},
     "output_type": "execute_result"
    }
   ],
   "source": [
    "# представим двухмерные данные в одномерном объекте Series\n",
    "index = [('pl_1', 1900), ('pl_2', 1900), ('pl_3', 1900), ('pl_1', 1930), ('pl_2', 1930), ('pl_3',1930)]\n",
    "population = [315431, 534132, 2136545, 32135, 3513513, 5312321]\n",
    "arr = pd.Series(population, index=index)\n",
    "arr[[i for i in arr.index if i[1] == 1910]] # медленно и громоздко"
   ]
  },
  {
   "cell_type": "code",
   "execution_count": 62,
   "metadata": {},
   "outputs": [
    {
     "name": "stdout",
     "output_type": "stream",
     "text": [
      "                 Data\n",
      "pl_name year         \n",
      "pl_1    1900   315431\n",
      "pl_2    1900   534132\n",
      "pl_3    1900  2136545\n",
      "pl_1    1930    32135\n",
      "pl_2    1930  3513513\n",
      "pl_3    1930  5312321\n",
      "MultiIndex([('pl_1', 1900),\n",
      "            ('pl_2', 1900),\n",
      "            ('pl_3', 1900),\n",
      "            ('pl_1', 1930),\n",
      "            ('pl_2', 1930),\n",
      "            ('pl_3', 1930)],\n",
      "           names=['pl_name', 'year'])\n"
     ]
    },
    {
     "data": {
      "text/plain": [
       "(pl_name  year\n",
       " pl_1     1900    315431\n",
       "          1930     32135\n",
       " Name: Data, dtype: int64,\n",
       " pl_name  year\n",
       " pl_1     1900     315431\n",
       " pl_2     1900     534132\n",
       " pl_3     1900    2136545\n",
       " Name: Data, dtype: int64)"
      ]
     },
     "execution_count": 62,
     "metadata": {},
     "output_type": "execute_result"
    }
   ],
   "source": [
    "# ща сделаем красиво\n",
    "index = [['pl_1', 'pl_2', 'pl_3', 'pl_1', 'pl_2', 'pl_3'],[1900, 1900, 1900, 1930, 1930, 1930]]\n",
    "population = [315431, 534132, 2136545, 32135, 3513513, 5312321]\n",
    "index = pd.MultiIndex.from_arrays(index, names=['pl_name', 'year']) # задали названия индексов\n",
    "arr = pd.DataFrame(data={'Data':population}, index=index) # задали название столбца с данными 'Data'\n",
    "print(arr), print(index)\n",
    "arr.loc[('pl_1', slice(None)), 'Data'], arr.loc[(slice(None), 1900), 'Data'] # slice(None) используется если определенный индекс неважен "
   ]
  },
  {
   "cell_type": "code",
   "execution_count": 63,
   "metadata": {},
   "outputs": [
    {
     "name": "stdout",
     "output_type": "stream",
     "text": [
      "     total  workers\n",
      "0   315431      321\n",
      "1   534132      646\n",
      "2  2136545      645\n",
      "3    32135      652\n",
      "4  3513513      321\n",
      "5  5312321     9999\n"
     ]
    },
    {
     "data": {
      "text/plain": [
       "0    0.001018\n",
       "1    0.001209\n",
       "2    0.000302\n",
       "3    0.020289\n",
       "4    0.000091\n",
       "5    0.001882\n",
       "dtype: float64"
      ]
     },
     "execution_count": 63,
     "metadata": {},
     "output_type": "execute_result"
    }
   ],
   "source": [
    "index = [['pl_1', 'pl_2', 'pl_3', 'pl_1', 'pl_2', 'pl_3'],[1900, 1900, 1900, 1930, 1930, 1930]]\n",
    "population = [315431, 534132, 2136545, 32135, 3513513, 5312321]\n",
    "index = pd.MultiIndex.from_arrays(index, names=['pl_name', 'year']) # задали названия индексов\n",
    "arr = pd.DataFrame(data={'Data':population}, index=index) # задали название столбца с данными 'Data'\n",
    "arr, arr.stack() # stack: dataframe -> series, unstack наоборот, данные должны быть мультииндексированы\n",
    "arr = pd.DataFrame({'total': population,\n",
    "                    'workers': [321, 646, 645, 652, 321, 9999]})\n",
    "print(arr)\n",
    "workers_share = arr['workers'] / arr['total']\n",
    "workers_share"
   ]
  },
  {
   "cell_type": "code",
   "execution_count": 64,
   "metadata": {},
   "outputs": [
    {
     "data": {
      "text/plain": [
       "MultiIndex([('a', 1),\n",
       "            ('a', 2),\n",
       "            ('b', 1),\n",
       "            ('b', 2)],\n",
       "           )"
      ]
     },
     "execution_count": 64,
     "metadata": {},
     "output_type": "execute_result"
    }
   ],
   "source": [
    "df = pd.DataFrame(data=[[3, 4],[23, np.nan], [34, 56], [54, 1]], # нужно внимательно следить за количество строк и столбцов, во всех пунктах\n",
    "                  index=[list('abab'), list('1212')],\n",
    "                  columns=['data_1', 'data_2'])\n",
    "data = {('pl_1', 1900): 315431,\n",
    "    ('pl_2', 1900): 534132,\n",
    "    ('pl_3', 1900): 2136545,\n",
    "    ('pl_1', 1930): 32135,\n",
    "    ('pl_2', 1930): 3513513,\n",
    "    ('pl_3', 1930): 5312321}\n",
    "data, pd.Series(data)\n",
    "pd.MultiIndex.from_product([['a', 'b'], [1, 2]]) # декартово произведение обычных индексов для задания мультииндекса"
   ]
  },
  {
   "cell_type": "code",
   "execution_count": 65,
   "metadata": {},
   "outputs": [
    {
     "name": "stdout",
     "output_type": "stream",
     "text": [
      "  level_0 level_1  data_1  data_2\n",
      "0       a       1       3     4.0\n",
      "1       b       2      23     NaN\n",
      "2       a       1      34    56.0\n",
      "3       b       2      54     1.0\n"
     ]
    }
   ],
   "source": [
    "usual_df = df.reset_index() # мультииндексированный массив -> обычны DataFrame \n",
    "usual_df.set_index(['level_0', 'level_1']) # мультииндекс из значений столбцов\n",
    "print(usual_df)"
   ]
  },
  {
   "attachments": {},
   "cell_type": "markdown",
   "metadata": {},
   "source": [
    "Объединение наборов данных"
   ]
  },
  {
   "cell_type": "code",
   "execution_count": 66,
   "metadata": {},
   "outputs": [
    {
     "data": {
      "text/html": [
       "<div>\n",
       "<style scoped>\n",
       "    .dataframe tbody tr th:only-of-type {\n",
       "        vertical-align: middle;\n",
       "    }\n",
       "\n",
       "    .dataframe tbody tr th {\n",
       "        vertical-align: top;\n",
       "    }\n",
       "\n",
       "    .dataframe thead th {\n",
       "        text-align: right;\n",
       "    }\n",
       "</style>\n",
       "<table border=\"1\" class=\"dataframe\">\n",
       "  <thead>\n",
       "    <tr style=\"text-align: right;\">\n",
       "      <th></th>\n",
       "      <th>a</th>\n",
       "      <th>b</th>\n",
       "      <th>c</th>\n",
       "      <th>d</th>\n",
       "    </tr>\n",
       "  </thead>\n",
       "  <tbody>\n",
       "    <tr>\n",
       "      <th>1</th>\n",
       "      <td>1a</td>\n",
       "      <td>1b</td>\n",
       "      <td>1c</td>\n",
       "      <td>1d</td>\n",
       "    </tr>\n",
       "    <tr>\n",
       "      <th>2</th>\n",
       "      <td>2a</td>\n",
       "      <td>2b</td>\n",
       "      <td>2c</td>\n",
       "      <td>2d</td>\n",
       "    </tr>\n",
       "    <tr>\n",
       "      <th>3</th>\n",
       "      <td>3a</td>\n",
       "      <td>3b</td>\n",
       "      <td>3c</td>\n",
       "      <td>3d</td>\n",
       "    </tr>\n",
       "    <tr>\n",
       "      <th>4</th>\n",
       "      <td>4a</td>\n",
       "      <td>4b</td>\n",
       "      <td>4c</td>\n",
       "      <td>4d</td>\n",
       "    </tr>\n",
       "    <tr>\n",
       "      <th>5</th>\n",
       "      <td>5a</td>\n",
       "      <td>5b</td>\n",
       "      <td>5c</td>\n",
       "      <td>5d</td>\n",
       "    </tr>\n",
       "    <tr>\n",
       "      <th>6</th>\n",
       "      <td>6a</td>\n",
       "      <td>6b</td>\n",
       "      <td>6c</td>\n",
       "      <td>6d</td>\n",
       "    </tr>\n",
       "  </tbody>\n",
       "</table>\n",
       "</div>"
      ],
      "text/plain": [
       "    a   b   c   d\n",
       "1  1a  1b  1c  1d\n",
       "2  2a  2b  2c  2d\n",
       "3  3a  3b  3c  3d\n",
       "4  4a  4b  4c  4d\n",
       "5  5a  5b  5c  5d\n",
       "6  6a  6b  6c  6d"
      ]
     },
     "execution_count": 66,
     "metadata": {},
     "output_type": "execute_result"
    }
   ],
   "source": [
    "# функция для создания DataFrame\n",
    "def make_df(rows, cols):\n",
    "    data = {str(j): [str(i) + str(j) for i in rows] for j in cols}\n",
    "    return pd.DataFrame(data, rows)\n",
    "\n",
    "a = [1, 2, 3, 4, 5, 6]\n",
    "b = list('abcd')\n",
    "data1 = make_df(a, b)\n",
    "data1\n"
   ]
  },
  {
   "cell_type": "code",
   "execution_count": 67,
   "metadata": {},
   "outputs": [
    {
     "data": {
      "text/plain": [
       "(array([[1, 2],\n",
       "        [3, 4],\n",
       "        [1, 2],\n",
       "        [3, 4],\n",
       "        [1, 2],\n",
       "        [3, 4]]),\n",
       " array([[1, 2, 1, 2, 1, 2],\n",
       "        [3, 4, 3, 4, 3, 4]]))"
      ]
     },
     "execution_count": 67,
     "metadata": {},
     "output_type": "execute_result"
    }
   ],
   "source": [
    "c = np.concatenate([a, b, b, a, a, a])\n",
    "x = [[1, 2], \n",
    "     [3, 4]]\n",
    "np.concatenate([x, x, x], axis=0), np.concatenate([x, x, x], axis=1)"
   ]
  },
  {
   "cell_type": "code",
   "execution_count": 68,
   "metadata": {},
   "outputs": [
    {
     "name": "stdout",
     "output_type": "stream",
     "text": [
      "0    a\n",
      "1    b\n",
      "2    c\n",
      "3    e\n",
      "4    f\n",
      "5    g\n",
      "dtype: object\n"
     ]
    }
   ],
   "source": [
    "ser1 = pd.Series(['a', 'b', 'c'])\n",
    "ser2 = pd.Series(['e', 'f', 'g'], index=[3, 4, 5])\n",
    "print(pd.concat([ser1, ser2]))"
   ]
  },
  {
   "cell_type": "code",
   "execution_count": 69,
   "metadata": {},
   "outputs": [
    {
     "name": "stdout",
     "output_type": "stream",
     "text": [
      "    a   b   c   d\n",
      "1  1a  1b  1c  1d\n",
      "2  2a  2b  2c  2d\n",
      "3  3a  3b  3c  3d\n",
      "4  4a  4b  4c  4d\n",
      "5  5a  5b  5c  5d\n",
      "6  6a  6b  6c  6d     e   f   g   h\n",
      "1  1e  1f  1g  1h\n",
      "2  2e  2f  2g  2h\n",
      "3  3e  3f  3g  3h\n",
      "4  4e  4f  4g  4h\n",
      "5  5e  5f  5g  5h\n",
      "6  6e  6f  6g  6h\n"
     ]
    },
    {
     "data": {
      "text/html": [
       "<div>\n",
       "<style scoped>\n",
       "    .dataframe tbody tr th:only-of-type {\n",
       "        vertical-align: middle;\n",
       "    }\n",
       "\n",
       "    .dataframe tbody tr th {\n",
       "        vertical-align: top;\n",
       "    }\n",
       "\n",
       "    .dataframe thead th {\n",
       "        text-align: right;\n",
       "    }\n",
       "</style>\n",
       "<table border=\"1\" class=\"dataframe\">\n",
       "  <thead>\n",
       "    <tr style=\"text-align: right;\">\n",
       "      <th></th>\n",
       "      <th>a</th>\n",
       "      <th>b</th>\n",
       "      <th>c</th>\n",
       "      <th>d</th>\n",
       "      <th>e</th>\n",
       "      <th>f</th>\n",
       "      <th>g</th>\n",
       "      <th>h</th>\n",
       "    </tr>\n",
       "  </thead>\n",
       "  <tbody>\n",
       "    <tr>\n",
       "      <th>1</th>\n",
       "      <td>1a</td>\n",
       "      <td>1b</td>\n",
       "      <td>1c</td>\n",
       "      <td>1d</td>\n",
       "      <td>1e</td>\n",
       "      <td>1f</td>\n",
       "      <td>1g</td>\n",
       "      <td>1h</td>\n",
       "    </tr>\n",
       "    <tr>\n",
       "      <th>2</th>\n",
       "      <td>2a</td>\n",
       "      <td>2b</td>\n",
       "      <td>2c</td>\n",
       "      <td>2d</td>\n",
       "      <td>2e</td>\n",
       "      <td>2f</td>\n",
       "      <td>2g</td>\n",
       "      <td>2h</td>\n",
       "    </tr>\n",
       "    <tr>\n",
       "      <th>3</th>\n",
       "      <td>3a</td>\n",
       "      <td>3b</td>\n",
       "      <td>3c</td>\n",
       "      <td>3d</td>\n",
       "      <td>3e</td>\n",
       "      <td>3f</td>\n",
       "      <td>3g</td>\n",
       "      <td>3h</td>\n",
       "    </tr>\n",
       "    <tr>\n",
       "      <th>4</th>\n",
       "      <td>4a</td>\n",
       "      <td>4b</td>\n",
       "      <td>4c</td>\n",
       "      <td>4d</td>\n",
       "      <td>4e</td>\n",
       "      <td>4f</td>\n",
       "      <td>4g</td>\n",
       "      <td>4h</td>\n",
       "    </tr>\n",
       "    <tr>\n",
       "      <th>5</th>\n",
       "      <td>5a</td>\n",
       "      <td>5b</td>\n",
       "      <td>5c</td>\n",
       "      <td>5d</td>\n",
       "      <td>5e</td>\n",
       "      <td>5f</td>\n",
       "      <td>5g</td>\n",
       "      <td>5h</td>\n",
       "    </tr>\n",
       "    <tr>\n",
       "      <th>6</th>\n",
       "      <td>6a</td>\n",
       "      <td>6b</td>\n",
       "      <td>6c</td>\n",
       "      <td>6d</td>\n",
       "      <td>6e</td>\n",
       "      <td>6f</td>\n",
       "      <td>6g</td>\n",
       "      <td>6h</td>\n",
       "    </tr>\n",
       "  </tbody>\n",
       "</table>\n",
       "</div>"
      ],
      "text/plain": [
       "    a   b   c   d   e   f   g   h\n",
       "1  1a  1b  1c  1d  1e  1f  1g  1h\n",
       "2  2a  2b  2c  2d  2e  2f  2g  2h\n",
       "3  3a  3b  3c  3d  3e  3f  3g  3h\n",
       "4  4a  4b  4c  4d  4e  4f  4g  4h\n",
       "5  5a  5b  5c  5d  5e  5f  5g  5h\n",
       "6  6a  6b  6c  6d  6e  6f  6g  6h"
      ]
     },
     "execution_count": 69,
     "metadata": {},
     "output_type": "execute_result"
    }
   ],
   "source": [
    "np.random.seed(42)\n",
    "df1 = pd.DataFrame(data=np.random.randint(11, size=(3, 2)), index=list('123'), columns=list('ab'))\n",
    "df2 = pd.DataFrame(data=np.random.randint(11, size=(3, 2)), index=list('456'), columns=list('ab'))\n",
    "df3 = make_df([1, 2, 3, 4, 5, 6], list('abcd'))\n",
    "df4 = make_df([1, 2, 3, 4, 5, 6], list('efgh'))\n",
    "pd.concat([df1, df2])\n",
    "print(df3, df4)\n",
    "pd.concat([df3, df4], axis='columns')"
   ]
  },
  {
   "cell_type": "code",
   "execution_count": 70,
   "metadata": {},
   "outputs": [
    {
     "name": "stdout",
     "output_type": "stream",
     "text": [
      "0    a\n",
      "1    b\n",
      "2    c\n",
      "3    e\n",
      "4    f\n",
      "5    g\n",
      "dtype: object \n",
      " x  0    a\n",
      "   1    b\n",
      "   2    c\n",
      "y  0    e\n",
      "   1    f\n",
      "   2    g\n",
      "dtype: object\n"
     ]
    }
   ],
   "source": [
    "ser1 = pd.Series(['a', 'b', 'c'])\n",
    "ser2 = pd.Series(['e', 'f', 'g'],)\n",
    "print(pd.concat([ser1, ser2], ignore_index=True), # вывод без повторяющихся индексов\n",
    "      '\\n', pd.concat([ser1, ser2], keys=['x', 'y'])) #  вывод с мультииндексом"
   ]
  },
  {
   "cell_type": "code",
   "execution_count": 71,
   "metadata": {},
   "outputs": [
    {
     "data": {
      "text/html": [
       "<div>\n",
       "<style scoped>\n",
       "    .dataframe tbody tr th:only-of-type {\n",
       "        vertical-align: middle;\n",
       "    }\n",
       "\n",
       "    .dataframe tbody tr th {\n",
       "        vertical-align: top;\n",
       "    }\n",
       "\n",
       "    .dataframe thead th {\n",
       "        text-align: right;\n",
       "    }\n",
       "</style>\n",
       "<table border=\"1\" class=\"dataframe\">\n",
       "  <thead>\n",
       "    <tr style=\"text-align: right;\">\n",
       "      <th></th>\n",
       "      <th>c</th>\n",
       "      <th>d</th>\n",
       "    </tr>\n",
       "  </thead>\n",
       "  <tbody>\n",
       "    <tr>\n",
       "      <th>1</th>\n",
       "      <td>7</td>\n",
       "      <td>7</td>\n",
       "    </tr>\n",
       "    <tr>\n",
       "      <th>2</th>\n",
       "      <td>4</td>\n",
       "      <td>1</td>\n",
       "    </tr>\n",
       "    <tr>\n",
       "      <th>3</th>\n",
       "      <td>1</td>\n",
       "      <td>4</td>\n",
       "    </tr>\n",
       "    <tr>\n",
       "      <th>4</th>\n",
       "      <td>0</td>\n",
       "      <td>9</td>\n",
       "    </tr>\n",
       "    <tr>\n",
       "      <th>5</th>\n",
       "      <td>0</td>\n",
       "      <td>10</td>\n",
       "    </tr>\n",
       "    <tr>\n",
       "      <th>6</th>\n",
       "      <td>2</td>\n",
       "      <td>6</td>\n",
       "    </tr>\n",
       "  </tbody>\n",
       "</table>\n",
       "</div>"
      ],
      "text/plain": [
       "   c   d\n",
       "1  7   7\n",
       "2  4   1\n",
       "3  1   4\n",
       "4  0   9\n",
       "5  0  10\n",
       "6  2   6"
      ]
     },
     "execution_count": 71,
     "metadata": {},
     "output_type": "execute_result"
    }
   ],
   "source": [
    "df1 = pd.DataFrame(data=np.random.randint(11, size=(3, 4)), index=list('123'), columns=list('abcd'))\n",
    "df2 = pd.DataFrame(data=np.random.randint(11, size=(3, 4)), index=list('456'), columns=list('cdef'))\n",
    "pd.concat([df1, df2]) # NaN для элементов для которых нет данных\n",
    "pd.concat([df1, df2], join='inner') # выведутся только пересекающиеся столбцы\n"
   ]
  },
  {
   "cell_type": "code",
   "execution_count": 72,
   "metadata": {},
   "outputs": [
    {
     "data": {
      "text/html": [
       "<div>\n",
       "<style scoped>\n",
       "    .dataframe tbody tr th:only-of-type {\n",
       "        vertical-align: middle;\n",
       "    }\n",
       "\n",
       "    .dataframe tbody tr th {\n",
       "        vertical-align: top;\n",
       "    }\n",
       "\n",
       "    .dataframe thead th {\n",
       "        text-align: right;\n",
       "    }\n",
       "</style>\n",
       "<table border=\"1\" class=\"dataframe\">\n",
       "  <thead>\n",
       "    <tr style=\"text-align: right;\">\n",
       "      <th></th>\n",
       "      <th>a</th>\n",
       "      <th>b</th>\n",
       "      <th>c</th>\n",
       "      <th>d</th>\n",
       "      <th>e</th>\n",
       "      <th>f</th>\n",
       "    </tr>\n",
       "  </thead>\n",
       "  <tbody>\n",
       "    <tr>\n",
       "      <th>0</th>\n",
       "      <td>2a</td>\n",
       "      <td>2b</td>\n",
       "      <td>2c</td>\n",
       "      <td>2d</td>\n",
       "      <td>2e</td>\n",
       "      <td>2f</td>\n",
       "    </tr>\n",
       "    <tr>\n",
       "      <th>1</th>\n",
       "      <td>4a</td>\n",
       "      <td>4b</td>\n",
       "      <td>4c</td>\n",
       "      <td>4d</td>\n",
       "      <td>4e</td>\n",
       "      <td>4f</td>\n",
       "    </tr>\n",
       "    <tr>\n",
       "      <th>2</th>\n",
       "      <td>5a</td>\n",
       "      <td>5b</td>\n",
       "      <td>5c</td>\n",
       "      <td>5d</td>\n",
       "      <td>5e</td>\n",
       "      <td>5f</td>\n",
       "    </tr>\n",
       "    <tr>\n",
       "      <th>3</th>\n",
       "      <td>6a</td>\n",
       "      <td>6b</td>\n",
       "      <td>6c</td>\n",
       "      <td>6d</td>\n",
       "      <td>6e</td>\n",
       "      <td>6f</td>\n",
       "    </tr>\n",
       "  </tbody>\n",
       "</table>\n",
       "</div>"
      ],
      "text/plain": [
       "    a   b   c   d   e   f\n",
       "0  2a  2b  2c  2d  2e  2f\n",
       "1  4a  4b  4c  4d  4e  4f\n",
       "2  5a  5b  5c  5d  5e  5f\n",
       "3  6a  6b  6c  6d  6e  6f"
      ]
     },
     "execution_count": 72,
     "metadata": {},
     "output_type": "execute_result"
    }
   ],
   "source": [
    "df3 = make_df([1, 2, 3, 4, 5, 6], list('abcd'))\n",
    "df4 = make_df([4, 5, 6, 7, 8, 9, 10, 2, 12, 13, 14], list('cdef'))\n",
    "df3, df4\n",
    "pd.merge(df3, df4) # слияние бд по общим индексам (общие числа в первом списке в переменных функции make_df)"
   ]
  },
  {
   "cell_type": "code",
   "execution_count": 73,
   "metadata": {},
   "outputs": [
    {
     "data": {
      "text/html": [
       "<div>\n",
       "<style scoped>\n",
       "    .dataframe tbody tr th:only-of-type {\n",
       "        vertical-align: middle;\n",
       "    }\n",
       "\n",
       "    .dataframe tbody tr th {\n",
       "        vertical-align: top;\n",
       "    }\n",
       "\n",
       "    .dataframe thead th {\n",
       "        text-align: right;\n",
       "    }\n",
       "</style>\n",
       "<table border=\"1\" class=\"dataframe\">\n",
       "  <thead>\n",
       "    <tr style=\"text-align: right;\">\n",
       "      <th></th>\n",
       "      <th>name</th>\n",
       "      <th>group</th>\n",
       "      <th>skills</th>\n",
       "    </tr>\n",
       "  </thead>\n",
       "  <tbody>\n",
       "    <tr>\n",
       "      <th>2</th>\n",
       "      <td>Swan</td>\n",
       "      <td>football</td>\n",
       "      <td>smart</td>\n",
       "    </tr>\n",
       "    <tr>\n",
       "      <th>0</th>\n",
       "      <td>John</td>\n",
       "      <td>basketball</td>\n",
       "      <td>smart</td>\n",
       "    </tr>\n",
       "    <tr>\n",
       "      <th>3</th>\n",
       "      <td>John</td>\n",
       "      <td>basketball</td>\n",
       "      <td>clever</td>\n",
       "    </tr>\n",
       "    <tr>\n",
       "      <th>1</th>\n",
       "      <td>Jack</td>\n",
       "      <td>tennis</td>\n",
       "      <td>clever</td>\n",
       "    </tr>\n",
       "    <tr>\n",
       "      <th>4</th>\n",
       "      <td>Bob</td>\n",
       "      <td>football</td>\n",
       "      <td>smart</td>\n",
       "    </tr>\n",
       "  </tbody>\n",
       "</table>\n",
       "</div>"
      ],
      "text/plain": [
       "   name       group  skills\n",
       "2  Swan    football   smart\n",
       "0  John  basketball   smart\n",
       "3  John  basketball  clever\n",
       "1  Jack      tennis  clever\n",
       "4   Bob    football   smart"
      ]
     },
     "execution_count": 73,
     "metadata": {},
     "output_type": "execute_result"
    }
   ],
   "source": [
    "df5 = pd.DataFrame({'name': ['Swan', 'John', 'Jack', 'Bob'],\n",
    "                    'group': ['football', 'basketball', 'tennis', ' football']})\n",
    "df6 = pd.DataFrame({'group': ['basketball', 'tennis', 'football', 'basketball', ' football'],\n",
    "                    'skills': ['smart', 'clever', 'smart', 'clever', 'smart']})\n",
    "df7 = pd.DataFrame({'job': ['teacher', 'writer', 'actor', 'comic'],\n",
    "                    'employee': ['Swan', 'John', 'Jack', 'Bob'], \n",
    "                    'salary(RUB)': [123132, 354312, 321213, 234232]})\n",
    "df5, df6, pd.merge(df5, df6) # появилось 2 John в смерженной бд\n",
    "pd.merge(df5, df6, on='group') # явно задали столбцы по которым нужно объединять\n",
    "pd.merge(df5, df7, left_on='name', right_on='employee').drop('employee', axis=1) # объединили бд с столбцами под имя и сотрудник с удалением столбца сотрудник\n",
    "df5a = df5.set_index('group')\n",
    "df6a = df6.set_index('group')\n",
    "pd.merge(df5a, df6a, left_index=True, right_index=True) # слияние по индексам\n",
    "df5a.join(df6a) # слияние по индексам по умолчанию\n",
    "pd.merge(df5a, df6, left_index=True, right_on='group')"
   ]
  },
  {
   "cell_type": "code",
   "execution_count": 74,
   "metadata": {},
   "outputs": [
    {
     "name": "stdout",
     "output_type": "stream",
     "text": [
      "   name   food  drink\n",
      "0  Mary  bread  water\n",
      "    name   food  drink\n",
      "0  Peter   fish    NaN\n",
      "1   Paul  beans    NaN\n",
      "2   Mary  bread  water\n",
      "3   Anna    NaN   wine\n",
      "   name   food  drink\n",
      "0  Mary  bread  water\n",
      "1  Anna    NaN   wine\n",
      "    name   food  drink\n",
      "0  Peter   fish    NaN\n",
      "1   Paul  beans    NaN\n",
      "2   Mary  bread  water\n"
     ]
    }
   ],
   "source": [
    "df1 = pd.DataFrame({'name': [\"Peter\", 'Paul', 'Mary'],\n",
    "                    'food': ['fish', 'beans', 'bread']})\n",
    "df2 = pd.DataFrame({'name': ['Mary', 'Anna'],\n",
    "                    'drink': ['water', 'wine']})\n",
    "print(pd.merge(df1, df2))\n",
    "print(pd.merge(df1, df2, how='outer'))\n",
    "print(pd.merge(df1, df2, how='right'))\n",
    "print(pd.merge(df1, df2, how='left'))"
   ]
  },
  {
   "cell_type": "code",
   "execution_count": 75,
   "metadata": {},
   "outputs": [
    {
     "data": {
      "text/html": [
       "<div>\n",
       "<style scoped>\n",
       "    .dataframe tbody tr th:only-of-type {\n",
       "        vertical-align: middle;\n",
       "    }\n",
       "\n",
       "    .dataframe tbody tr th {\n",
       "        vertical-align: top;\n",
       "    }\n",
       "\n",
       "    .dataframe thead th {\n",
       "        text-align: right;\n",
       "    }\n",
       "</style>\n",
       "<table border=\"1\" class=\"dataframe\">\n",
       "  <thead>\n",
       "    <tr style=\"text-align: right;\">\n",
       "      <th></th>\n",
       "      <th>name</th>\n",
       "      <th>rank</th>\n",
       "      <th>rank__aee</th>\n",
       "      <th>rank__eey</th>\n",
       "    </tr>\n",
       "  </thead>\n",
       "  <tbody>\n",
       "    <tr>\n",
       "      <th>0</th>\n",
       "      <td>Peter</td>\n",
       "      <td>4</td>\n",
       "      <td>1</td>\n",
       "      <td>3</td>\n",
       "    </tr>\n",
       "    <tr>\n",
       "      <th>1</th>\n",
       "      <td>Paul</td>\n",
       "      <td>5</td>\n",
       "      <td>2</td>\n",
       "      <td>2</td>\n",
       "    </tr>\n",
       "    <tr>\n",
       "      <th>2</th>\n",
       "      <td>Mary</td>\n",
       "      <td>6</td>\n",
       "      <td>3</td>\n",
       "      <td>1</td>\n",
       "    </tr>\n",
       "  </tbody>\n",
       "</table>\n",
       "</div>"
      ],
      "text/plain": [
       "    name  rank  rank__aee  rank__eey\n",
       "0  Peter     4          1          3\n",
       "1   Paul     5          2          2\n",
       "2   Mary     6          3          1"
      ]
     },
     "execution_count": 75,
     "metadata": {},
     "output_type": "execute_result"
    }
   ],
   "source": [
    "df1 = pd.DataFrame({'name': [\"Peter\", 'Paul', 'Mary'],\n",
    "                    'rank': [1, 2, 3]})\n",
    "df2 = pd.DataFrame({'name': [\"Peter\", 'Paul', 'Mary'],\n",
    "                    'rank': [3, 2, 1]})\n",
    "pd.merge(df1, df2, on='name') # без on останется одна строка: Paul\n",
    "df3 = pd.DataFrame({'name': [\"Peter\", 'Paul', 'Mary'],\n",
    "                    'rank': [4, 5, 6]})\n",
    "pd.merge(df3, pd.merge(df1, df2, on='name', suffixes=['__aee', '__eey']), on='name')"
   ]
  },
  {
   "cell_type": "code",
   "execution_count": 76,
   "metadata": {},
   "outputs": [
    {
     "data": {
      "text/plain": [
       "\"Этот код сначала импортирует библиотеку requests, которая позволяет получать содержимое файлов по ссылке. Затем он определяет\\n три ссылки на файлы, которые нужно скачать, и сохраняет их в переменные abbr, areas и popul. \\nДалее создается список response, который содержит ответы сервера на запросы по ссылкам, используя \\nфункцию requests.get(). Затем создается список files, содержащий имена файлов, в которые нужно сохранить содержимое.\\nЗатем запускается цикл for, который проходит по каждому элементу списка response. Внутри этого цикла \\nзапускается вложенный цикл for, который проходит по каждому элементу списка files. Внутри вложенного цикла \\nоткрывается файл с именем из списка files для записи в режиме бинарной записи ('wb').\\n В этот файл записывается содержимое файла, полученного по соответствующей ссылке из списка response, с помощью метода content. \\nТаким образом, в результате выполнения этого кода в папке проекта будут созданы три файла с именами\\n 'state-abbrevs.csv', 'state-areas.csv' и 'state-population.csv', содержащие данные из файлов, доступных по ссылкам abbr, areas и popul.\""
      ]
     },
     "execution_count": 76,
     "metadata": {},
     "output_type": "execute_result"
    }
   ],
   "source": [
    "\"\"\"import requests # скачиваем файлы по ссылке из гитхаба и сохраняем в папке проекта\n",
    "abbr = 'https://github.com/jakevdp/data-USstates/blob/master/state-abbrevs.csv'\n",
    "areas = 'https://github.com/jakevdp/data-USstates/blob/master/state-areas.csv'\n",
    "popul = 'https://github.com/jakevdp/data-USstates/blob/master/state-population.csv'\n",
    "response = [requests.get(abbr), requests.get(areas), requests.get(popul)]\n",
    "files = ['state-abbrevs.csv', 'state-areas.csv', 'state-population.csv']\n",
    "for i in response:        \n",
    "    for j in files:\n",
    "        with open(j, 'wb') as f:\n",
    "            f.write(i.content)\"\"\"\n",
    "\n",
    "# работает плохо, не получается нормально прочитать csv файл, если вручную скачать, то все хорошо\n",
    "\n",
    "\"\"\"Этот код сначала импортирует библиотеку requests, которая позволяет получать содержимое файлов по ссылке. Затем он определяет\n",
    " три ссылки на файлы, которые нужно скачать, и сохраняет их в переменные abbr, areas и popul. \n",
    "Далее создается список response, который содержит ответы сервера на запросы по ссылкам, используя \n",
    "функцию requests.get(). Затем создается список files, содержащий имена файлов, в которые нужно сохранить содержимое.\n",
    "Затем запускается цикл for, который проходит по каждому элементу списка response. Внутри этого цикла \n",
    "запускается вложенный цикл for, который проходит по каждому элементу списка files. Внутри вложенного цикла \n",
    "открывается файл с именем из списка files для записи в режиме бинарной записи ('wb').\n",
    " В этот файл записывается содержимое файла, полученного по соответствующей ссылке из списка response, с помощью метода content. \n",
    "Таким образом, в результате выполнения этого кода в папке проекта будут созданы три файла с именами\n",
    " 'state-abbrevs.csv', 'state-areas.csv' и 'state-population.csv', содержащие данные из файлов, доступных по ссылкам abbr, areas и popul.\"\"\""
   ]
  },
  {
   "cell_type": "code",
   "execution_count": 77,
   "metadata": {},
   "outputs": [
    {
     "name": "stdout",
     "output_type": "stream",
     "text": [
      "<class 'pandas.core.frame.DataFrame'>\n",
      "RangeIndex: 51 entries, 0 to 50\n",
      "Data columns (total 2 columns):\n",
      " #   Column        Non-Null Count  Dtype \n",
      "---  ------        --------------  ----- \n",
      " 0   state         51 non-null     object\n",
      " 1   abbreviation  51 non-null     object\n",
      "dtypes: object(2)\n",
      "memory usage: 944.0+ bytes\n",
      "        state abbreviation\n",
      "0     Alabama           AL\n",
      "1      Alaska           AK\n",
      "2     Arizona           AZ\n",
      "3    Arkansas           AR\n",
      "4  California           CA None\n",
      "<class 'pandas.core.frame.DataFrame'>\n",
      "RangeIndex: 52 entries, 0 to 51\n",
      "Data columns (total 2 columns):\n",
      " #   Column         Non-Null Count  Dtype \n",
      "---  ------         --------------  ----- \n",
      " 0   state          52 non-null     object\n",
      " 1   area (sq. mi)  52 non-null     int64 \n",
      "dtypes: int64(1), object(1)\n",
      "memory usage: 960.0+ bytes\n",
      "        state  area (sq. mi)\n",
      "0     Alabama          52423\n",
      "1      Alaska         656425\n",
      "2     Arizona         114006\n",
      "3    Arkansas          53182\n",
      "4  California         163707 None\n",
      "<class 'pandas.core.frame.DataFrame'>\n",
      "RangeIndex: 2544 entries, 0 to 2543\n",
      "Data columns (total 4 columns):\n",
      " #   Column        Non-Null Count  Dtype  \n",
      "---  ------        --------------  -----  \n",
      " 0   state/region  2544 non-null   object \n",
      " 1   ages          2544 non-null   object \n",
      " 2   year          2544 non-null   int64  \n",
      " 3   population    2524 non-null   float64\n",
      "dtypes: float64(1), int64(1), object(2)\n",
      "memory usage: 79.6+ KB\n",
      "  state/region     ages  year  population\n",
      "0           AL  under18  2012   1117489.0\n",
      "1           AL    total  2012   4817528.0\n",
      "2           AL  under18  2010   1130966.0\n",
      "3           AL    total  2010   4785570.0\n",
      "4           AL  under18  2011   1125763.0 None\n"
     ]
    }
   ],
   "source": [
    "abbr = pd.read_csv('state-abbrevs.csv')\n",
    "areas = pd.read_csv('state-areas.csv')\n",
    "popul = pd.read_csv('state-population.csv')\n",
    "print(abbr.head(), abbr.info())\n",
    "print(areas.head(), areas.info())\n",
    "print(popul.head(), popul.info())"
   ]
  },
  {
   "cell_type": "code",
   "execution_count": 107,
   "metadata": {},
   "outputs": [
    {
     "data": {
      "text/plain": [
       "state\n",
       "South Dakota    10.583512\n",
       "North Dakota     9.537565\n",
       "Montana          6.736171\n",
       "Wyoming          5.768079\n",
       "Alaska           1.087509\n",
       "dtype: float64"
      ]
     },
     "execution_count": 107,
     "metadata": {},
     "output_type": "execute_result"
    }
   ],
   "source": [
    "merged = pd.merge(popul, abbr, how='outer', left_on='state/region', right_on='abbreviation')\n",
    "#  мержим бд на основе столбцов 'state/region' и 'abbreviation', left_on='state/region' in popul\n",
    "merged = merged.drop(columns='abbreviation') # удаляем дублирующуюся информацию\n",
    "merged.isnull().any() # merged.isnull() - матрица булевых масок, метод .any() показывает нахождение Nan значения в столбце\n",
    "merged[merged['population'].isnull()].head(100) # посмотрим какая именно информация отсутствует в столбце population\n",
    "merged.loc[merged['state'].isnull(), 'state/region'].unique() # посмотрим уникальные значения для пропущенных в столбце 'state'\n",
    "merged.loc[merged['population'].isnull(), 'state/region'].unique() # --//-- в столбце 'population'\n",
    "merged.loc[merged['state/region'] == 'PR', 'state'] = 'Puerto Rico' # добавляем записи в столбец с полным названием штатов по аббревиатуре\n",
    "merged.loc[merged['state/region'] == 'USA', 'state'] = 'United states' \n",
    "merged.isnull().any() # проверка, больше нет пустых значений в столбце 'state'\n",
    "final = pd.merge(merged, areas, on='state', how='left')\n",
    "#final = pd.merge(merged, areas, how='outer', left_on='state', right_on='state') # можно и так тоже\n",
    "final\n",
    "final.isnull().any()\n",
    "final['state'][final['area (sq. mi)'].isnull()].unique() # смотрим какие территории не имеют информации о площади\n",
    "final.dropna(inplace=True) # inplace=True указывает на то что изменения должны быть внесены в исходный обЪект без создания нового\n",
    "final\n",
    "data2010 = final.query(\"year == 2010 & ages == 'total'\")\n",
    "data2010.head()\n",
    "data2010.set_index('state', inplace=True)\n",
    "data2010\n",
    "density = data2010['population'] / data2010['area (sq. mi)']\n",
    "density.sort_values(ascending=False, inplace=True) # (с англ. восходящий) ascending=False это значит что сортировку нужно выполнять в порядке убывания\n",
    "density.head() # начало списка\n",
    "density.tail() # конец списка"
   ]
  },
  {
   "cell_type": "code",
   "execution_count": null,
   "metadata": {},
   "outputs": [],
   "source": []
  }
 ],
 "metadata": {
  "kernelspec": {
   "display_name": "Python 3",
   "language": "python",
   "name": "python3"
  },
  "language_info": {
   "codemirror_mode": {
    "name": "ipython",
    "version": 3
   },
   "file_extension": ".py",
   "mimetype": "text/x-python",
   "name": "python",
   "nbconvert_exporter": "python",
   "pygments_lexer": "ipython3",
   "version": "3.11.1"
  },
  "orig_nbformat": 4
 },
 "nbformat": 4,
 "nbformat_minor": 2
}

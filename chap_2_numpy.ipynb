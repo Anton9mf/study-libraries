{
 "cells": [
  {
   "cell_type": "code",
   "execution_count": 1,
   "metadata": {},
   "outputs": [
    {
     "data": {
      "text/plain": [
       "4950"
      ]
     },
     "execution_count": 1,
     "metadata": {},
     "output_type": "execute_result"
    }
   ],
   "source": [
    "result = 0\n",
    "for i in range(100):\n",
    "    result += i\n",
    "result"
   ]
  },
  {
   "cell_type": "code",
   "execution_count": 2,
   "metadata": {},
   "outputs": [
    {
     "data": {
      "text/plain": [
       "array('i', [0, 1, 2, 3, 4])"
      ]
     },
     "execution_count": 2,
     "metadata": {},
     "output_type": "execute_result"
    }
   ],
   "source": [
    "l = list(range(5))\n",
    "#l = [str(i) for i in l]\n",
    "import array\n",
    "l = array.array('i', l)\n",
    "l"
   ]
  },
  {
   "cell_type": "code",
   "execution_count": 3,
   "metadata": {},
   "outputs": [
    {
     "data": {
      "text/plain": [
       "array([[1, 2, 3, 4, 5],\n",
       "       [2, 3, 4, 5, 6],\n",
       "       [3, 4, 5, 6, 7],\n",
       "       [4, 5, 6, 7, 8],\n",
       "       [5, 6, 7, 8, 9]])"
      ]
     },
     "execution_count": 3,
     "metadata": {},
     "output_type": "execute_result"
    }
   ],
   "source": [
    "import numpy as np\n",
    "\n",
    "np.array([2.4, 5, 5, 6, 34])\n",
    "np.array([range(i, i+5) for i in [1, 2, 3, 4, 5]])"
   ]
  },
  {
   "cell_type": "code",
   "execution_count": 4,
   "metadata": {},
   "outputs": [
    {
     "data": {
      "text/plain": [
       "array([1.35766265e-311, 1.35766234e-311, 1.35766265e-311])"
      ]
     },
     "execution_count": 4,
     "metadata": {},
     "output_type": "execute_result"
    }
   ],
   "source": [
    "np.zeros((10, 10), dtype=float) # нули\n",
    "np.ones((9,9)) # единицы\n",
    "np.full((6,9), 69) # 69\n",
    "np.arange(0, 10, 1) # от 0 до 10 по целым числам с шагом 1\n",
    "np.linspace(1, 10, 25) # от 1 до 10 как будто прямую разрезали на 24 куска и взяли координаты 25 значений \n",
    "data = np.random.random((50,50)) # равномерно распределенная величина\n",
    "data2 = np.random.normal(30, 3, (9,9)) # нормально распределенная величина с медианой 30 и стандартным отклонением 3\n",
    "data3 = np.random.randint(1, 10, (4, 4)) # массив 4 на 4 со случайными числами от 1 до 10\n",
    "np.eye(10) # единичная матрица(на диагонали единицы) 10 на 10 \n",
    "np.empty(3) # массив с произвольными значениями из 3 элементов\n",
    "\n",
    "\n",
    "#import seaborn as sns\n",
    "#import matplotlib.pyplot as plt\n",
    "#plt.hist(data3)\n",
    "#plt.show()\n",
    "#sns.distplot(data3)"
   ]
  },
  {
   "cell_type": "code",
   "execution_count": 5,
   "metadata": {},
   "outputs": [
    {
     "name": "stdout",
     "output_type": "stream",
     "text": [
      "[[[  44   47   64   67   67    9]\n",
      "  [  83   21   36   87   70   88]]\n",
      "\n",
      " [[  88   12   58   65   39   87]\n",
      "  [  46 1000   81   37   25   77]]\n",
      "\n",
      " [[  72    9   20   80   69   79]\n",
      "  [  47   64   82   99   88   49]]\n",
      "\n",
      " [[  29   19   19   14   39   32]\n",
      "  [  65    9   57   32   31   74]]] 3 (4, 2, 6) 48 int32 4 192 1000\n"
     ]
    }
   ],
   "source": [
    "np.random.seed(0) # генерируется один и тот же массив при каждом перезапуске кода\n",
    "x3 = np.random.randint(100, size=(4, 2, 6)) # целые числа до 100 и размеры массива\n",
    "x3[1, 1, 1] = 1000.01 # в массивах фиксированный тип данных\n",
    "print(x3,\n",
    "      x3.ndim, # размерность\n",
    "      x3.shape, # размер каждого измерения\n",
    "      x3.size, # общий размер массива\n",
    "      x3.dtype, \n",
    "      x3.itemsize, # размер элемента в байтах\n",
    "      x3.nbytes, # pазмер массива в байтах\n",
    "      x3[1, 1, 1]\n",
    "\n",
    ")"
   ]
  },
  {
   "cell_type": "code",
   "execution_count": 6,
   "metadata": {},
   "outputs": [
    {
     "name": "stdout",
     "output_type": "stream",
     "text": [
      "[[[44 47 64 67 67  9]\n",
      "  [83 21 36 87 70 88]\n",
      "  [88 12 58 65 39 87]]\n",
      "\n",
      " [[46 88 81 37 25 77]\n",
      "  [72  9 20 80 69 79]\n",
      "  [47 64 82 99 88 49]]\n",
      "\n",
      " [[29 19 19 14 39 32]\n",
      "  [65  9 57 32 31 74]\n",
      "  [23 35 75 55 28 34]]\n",
      "\n",
      " [[ 0  0 36 53  5 38]\n",
      "  [17 79  4 42 58 31]\n",
      "  [ 1 65 41 57 35 11]]] ---------------------------------------- \n",
      " [[[72  9 20 80 69 79]]\n",
      "\n",
      " [[17 79  4 42 58 31]]]\n"
     ]
    },
    {
     "data": {
      "text/plain": [
       "array([ 9, 77, 32, 38])"
      ]
     },
     "execution_count": 6,
     "metadata": {},
     "output_type": "execute_result"
    }
   ],
   "source": [
    "np.random.seed(0) # генерируется один и тот же массив при каждом перезапуске кода\n",
    "x3 = np.random.randint(100, size=(4, 3, 6)) # целые числа до 100 и размеры массива\n",
    "#x[начало:конец:шаг] как в обычных списках\n",
    "print(x3,\n",
    "      '----------------------------------------', '\\n',\n",
    "      x3[1:4:2, 1:2],\n",
    "      #x3[::-1, ::-1, ::-1],\n",
    "      )\n",
    "x3[:, 0, 5]"
   ]
  },
  {
   "cell_type": "code",
   "execution_count": 7,
   "metadata": {},
   "outputs": [
    {
     "name": "stdout",
     "output_type": "stream",
     "text": [
      "[[5 0 3 3]\n",
      " [7 9 3 5]\n",
      " [2 4 7 6]\n",
      " [8 8 1 6]]\n",
      "[[7 6]\n",
      " [1 6]]\n",
      "[[  7   6]\n",
      " [  1 -12]]\n",
      "[[  5   0   3   3]\n",
      " [  7   9   3   5]\n",
      " [  2   4   7   6]\n",
      " [  8   8   1 -12]]\n"
     ]
    }
   ],
   "source": [
    "np.random.seed(0) # генерируется один и тот же массив при каждом перезапуске кода\n",
    "x2 = np.random.randint(10, size=(4, 4))\n",
    "print(x2)\n",
    "x2_sub = x2[2:, 2:]\n",
    "print(x2_sub)\n",
    "x2_sub[1, 1] = -12\n",
    "print(x2_sub)\n",
    "print(x2)\n",
    "# изменение среза массива приведет к изменению изначального массива"
   ]
  },
  {
   "cell_type": "code",
   "execution_count": 8,
   "metadata": {},
   "outputs": [
    {
     "name": "stdout",
     "output_type": "stream",
     "text": [
      "[[5 0 3]\n",
      " [3 7 9]\n",
      " [3 5 2]] [[5 0 3]\n",
      " [3 7 9]\n",
      " [3 5 2]]\n",
      "[[5 0 3]\n",
      " [3 7 9]\n",
      " [3 5 2]] [[10000     0     3]\n",
      " [    3     7     9]\n",
      " [    3     5     2]]\n"
     ]
    }
   ],
   "source": [
    "np.random.seed(0) # генерируется один и тот же массив при каждом перезапуске кода\n",
    "x2 = np.random.randint(10, size=(3, 3))\n",
    "x2_1 = x2.copy() # копия массива, ее можно изменять \n",
    "print(x2, x2_1)\n",
    "x2_1[0,0] = 10000\n",
    "print(x2, x2_1)\n"
   ]
  },
  {
   "cell_type": "code",
   "execution_count": 9,
   "metadata": {},
   "outputs": [
    {
     "name": "stdout",
     "output_type": "stream",
     "text": [
      "[[12  5  0  3 11]\n",
      " [ 3  7  9  3  5]\n",
      " [ 2  4  7  6  8]\n",
      " [ 8 12 10  1  6]\n",
      " [ 7  7 14  8  1]] [[12  5  0  3 11  3  7  9  3  5  2  4  7  6  8  8 12 10  1  6  7  7 14  8\n",
      "   1]]\n"
     ]
    },
    {
     "data": {
      "text/plain": [
       "array([[12],\n",
       "       [ 5],\n",
       "       [ 0],\n",
       "       [ 3],\n",
       "       [11]])"
      ]
     },
     "execution_count": 9,
     "metadata": {},
     "output_type": "execute_result"
    }
   ],
   "source": [
    "np.random.seed(0)\n",
    "x2 = np.random.randint(15, size=(5,5))\n",
    "print(x2,\n",
    "x2.reshape(1,25)) # преобразование в вектор строку всего массива\n",
    "x2[0][:, np.newaxis] # преобразование в вектор столбец одномерного массива методом np.newaxis, каждое значение это отдельная координата\n"
   ]
  },
  {
   "cell_type": "code",
   "execution_count": 10,
   "metadata": {},
   "outputs": [
    {
     "name": "stdout",
     "output_type": "stream",
     "text": [
      "[[5 9]\n",
      " [8 9]] [[4 3 0 3 5]\n",
      " [0 2 3 8 1]] [[5 9 4 3 0 3 5]\n",
      " [8 9 0 2 3 8 1]]\n",
      "[[5 9]\n",
      " [8 9]] [[4 3]\n",
      " [0 2]] [[0 3]\n",
      " [3 8]] [[5]\n",
      " [1]] [[5 9 4 3 0 3 5]] [[8 9 0 2 3 8 1]]\n"
     ]
    }
   ],
   "source": [
    "np.random.seed(0)\n",
    "x = np.random.randint(10, size=(2, 5))\n",
    "y = np.random.randint(10, size=(2, 5))\n",
    "np.concatenate([x, y], axis=1) # слияние 2 массивов по втрой оси координат\n",
    "x = np.random.randint(10, size=(2, 2))\n",
    "y = np.random.randint(10, size=(2, 5))\n",
    "hor = np.hstack([x,y]) # объединение по горизонтали\n",
    "#vert = np.vstack([x,y]) тут было бы повертикали\n",
    "print(x, y, hor)\n",
    "h1, h2, h3, h4 = np.hsplit(hor, [2, 4, 6])\n",
    "v1, v2 = np.vsplit(hor, [1])\n",
    "print(h1, h2, h3, h4, v1, v2)"
   ]
  },
  {
   "attachments": {},
   "cell_type": "markdown",
   "metadata": {},
   "source": [
    "Универсальные функции"
   ]
  },
  {
   "cell_type": "code",
   "execution_count": 11,
   "metadata": {},
   "outputs": [
    {
     "data": {
      "text/plain": [
       "(array([[6, 1, 4, 4, 8],\n",
       "        [4, 6, 3, 5, 8]]),\n",
       " array([[0.16666667, 1.        , 0.25      , 0.25      , 0.125     ],\n",
       "        [0.25      , 0.16666667, 0.33333333, 0.2       , 0.125     ]]),\n",
       " array([[6.16666667, 2.        , 4.25      , 4.25      , 8.125     ],\n",
       "        [4.25      , 6.16666667, 3.33333333, 5.2       , 8.125     ]]),\n",
       " array([[36,  1, 16, 16, 64],\n",
       "        [16, 36,  9, 25, 64]]),\n",
       " array([[ 1, -4, -1, -1,  3],\n",
       "        [-1,  1, -2,  0,  3]]),\n",
       " array([[1, 1, 4, 4, 3],\n",
       "        [4, 1, 3, 0, 3]], dtype=int32),\n",
       " array([[95.63472173, 97.57561171, 96.38464608, 96.38464608, 94.9210198 ],\n",
       "        [96.38464608, 95.63472173, 96.7729301 , 96.00520819, 94.9210198 ]]))"
      ]
     },
     "execution_count": 11,
     "metadata": {},
     "output_type": "execute_result"
    }
   ],
   "source": [
    "np.random.seed(0)\n",
    "x = np.random.randint(1, 10, size=(2, 5))\n",
    "y = (1/x)\n",
    "z = x + y\n",
    "x, y, z, x**2, x-5, x%5, abs(np.add(x, -41+89j))"
   ]
  },
  {
   "cell_type": "code",
   "execution_count": 12,
   "metadata": {},
   "outputs": [
    {
     "name": "stdout",
     "output_type": "stream",
     "text": [
      "[[6 1 4 4 8]\n",
      " [4 6 3 5 8]] [[36.  1. 16. 16. 64.]\n",
      " [16. 36.  9. 25. 64.]] [[216.   1.  64.  64. 512.]\n",
      " [ 64. 216.  27. 125. 512.]]\n"
     ]
    },
    {
     "data": {
      "text/plain": [
       "array([10, 17, 24, 33, 49])"
      ]
     },
     "execution_count": 12,
     "metadata": {},
     "output_type": "execute_result"
    }
   ],
   "source": [
    "np.random.seed(0)\n",
    "x = np.random.randint(1, 10, size=(2, 5))\n",
    "y = np.empty([2,5])\n",
    "z = np.zeros((2,5))\n",
    "np.power(x, 2, out=y) # возводим элементы массива х в степень 2 и сохраняем в заранее созданный массив у\n",
    "np.power(x, 3, out=z)\n",
    "print(x, y, z)\n",
    "np.add.reduce(np.add.reduce(x)) #сумма всех элементов массива х, конструкция 2 раза так как массив двумерный\n",
    "np.add.accumulate(np.add.reduce(x)) # сохранение промежуточных этапов вычисления\n"
   ]
  },
  {
   "cell_type": "code",
   "execution_count": 13,
   "metadata": {},
   "outputs": [
    {
     "data": {
      "text/plain": [
       "(array([[[[9., 9., 9.],\n",
       "          [9., 9., 9.],\n",
       "          [9., 9., 9.]],\n",
       " \n",
       "         [[0., 0., 0.],\n",
       "          [0., 0., 0.],\n",
       "          [0., 0., 0.]],\n",
       " \n",
       "         [[0., 0., 0.],\n",
       "          [0., 0., 0.],\n",
       "          [0., 0., 0.]]],\n",
       " \n",
       " \n",
       "        [[[0., 0., 0.],\n",
       "          [0., 0., 0.],\n",
       "          [0., 0., 0.]],\n",
       " \n",
       "         [[9., 9., 9.],\n",
       "          [9., 9., 9.],\n",
       "          [9., 9., 9.]],\n",
       " \n",
       "         [[0., 0., 0.],\n",
       "          [0., 0., 0.],\n",
       "          [0., 0., 0.]]],\n",
       " \n",
       " \n",
       "        [[[0., 0., 0.],\n",
       "          [0., 0., 0.],\n",
       "          [0., 0., 0.]],\n",
       " \n",
       "         [[0., 0., 0.],\n",
       "          [0., 0., 0.],\n",
       "          [0., 0., 0.]],\n",
       " \n",
       "         [[9., 9., 9.],\n",
       "          [9., 9., 9.],\n",
       "          [9., 9., 9.]]]]),\n",
       " array([[9., 0., 0.],\n",
       "        [0., 9., 0.],\n",
       "        [0., 0., 9.]]))"
      ]
     },
     "execution_count": 13,
     "metadata": {},
     "output_type": "execute_result"
    }
   ],
   "source": [
    "E = np.eye(3)\n",
    "x = np.full((3, 3), 9)\n",
    "M = np.multiply.outer(E, x) # векторное произведение единичная матрица * матрица девяток = матрица 3х3 елементы матрицы это другие матрицы 3х3\n",
    "# на диагонали матрицы девяток, остальные нулевые (вектор * вектор = матрица)\n",
    "m = np.multiply(E, x) # обычное умноежение матрица девяток * единичная матрица = матрица с 9 на диагонали\n",
    "M, m"
   ]
  },
  {
   "cell_type": "code",
   "execution_count": 14,
   "metadata": {},
   "outputs": [
    {
     "data": {
      "text/plain": [
       "(9, 88, 9, 88)"
      ]
     },
     "execution_count": 14,
     "metadata": {},
     "output_type": "execute_result"
    }
   ],
   "source": [
    "np.random.seed(0)\n",
    "M = np.random.randint(100, size=(5, 5))\n",
    "sum(M) # просуммировала строки, работает медленнее\n",
    "np.sum(M) # сумма всех элементов массива, работает быстрее\n",
    "np.random.rand(3,3) # случайные числа в диапазоне [0;1) в масссиве заданного размера\n",
    "L = np.random.randint(100, size=5)\n",
    "min(L), max(L) # медленнее, чем из нумпи. Работает только с одномерными массивами\n",
    "M.min(), M.max(), np.min(M), np.max(M) # работает и с многомерными массивами\n"
   ]
  },
  {
   "cell_type": "code",
   "execution_count": 15,
   "metadata": {},
   "outputs": [
    {
     "data": {
      "text/plain": [
       "(array([[44, 47, 64, 67, 67],\n",
       "        [ 9, 83, 21, 36, 87],\n",
       "        [70, 88, 88, 12, 58],\n",
       "        [65, 39, 87, 46, 88],\n",
       "        [81, 37, 25, 77, 72]]),\n",
       " array([ 9, 37, 21, 12, 58]),\n",
       " array([44,  9, 12, 39, 25]))"
      ]
     },
     "execution_count": 15,
     "metadata": {},
     "output_type": "execute_result"
    }
   ],
   "source": [
    "np.random.seed(0)\n",
    "M = np.random.randint(100, size=(5, 5))\n",
    "M, M.min(axis=0), M.min(axis=1)\n",
    "# axis=0 выведет минимум по столбцам, axis=1 по строкам; axis это измерение массива, которое булет схлопнуто, а не возвращаемое\n"
   ]
  },
  {
   "cell_type": "code",
   "execution_count": 16,
   "metadata": {},
   "outputs": [
    {
     "name": "stdout",
     "output_type": "stream",
     "text": [
      "mean height:      181.42856447263173 \n",
      " Std:              10.81834185018207 \n",
      " Min/max heiht:    151.47010184165921 / 199.6975462398761 \n",
      " 25th percentile/median/ 75th percentile: 175.60677380828338 / 181.05377855152798 / 190.35389626248667\n"
     ]
    },
    {
     "data": {
      "text/plain": [
       "Text(0, 0.5, 'number')"
      ]
     },
     "execution_count": 16,
     "metadata": {},
     "output_type": "execute_result"
    },
    {
     "data": {
      "image/png": "[encoded data removed]",
      "text/plain": [
       "<Figure size 640x480 with 1 Axes>"
      ]
     },
     "metadata": {},
     "output_type": "display_data"
    }
   ],
   "source": [
    "import matplotlib.pyplot as plt\n",
    "import seaborn as sns\n",
    "\n",
    "\n",
    "\n",
    "np.random.seed(0)\n",
    "heights = np.random.normal(177, 10, 30)\n",
    "print('mean height:     ', heights.mean(),'\\n',\n",
    "    'Std:             ', heights.std(),'\\n',\n",
    "    'Min/max heiht:   ', heights.min(),'/',heights.max(),'\\n',\n",
    "    '25th percentile/median/ 75th percentile:', np.percentile(heights, 25), '/', np.median(heights), '/', np.percentile(heights, 75)\n",
    "    )\n",
    "\n",
    "sns.set()\n",
    "plt.hist(heights)\n",
    "plt.title('heights distribution')\n",
    "\n",
    "plt.xlabel('heights, cm')\n",
    "plt.ylabel('number')\n"
   ]
  },
  {
   "attachments": {},
   "cell_type": "markdown",
   "metadata": {},
   "source": [
    "Транслирование"
   ]
  },
  {
   "cell_type": "code",
   "execution_count": 17,
   "metadata": {},
   "outputs": [
    {
     "data": {
      "text/plain": [
       "(array([5, 6, 7]),\n",
       " array([[0, 1, 2],\n",
       "        [1, 2, 3],\n",
       "        [2, 3, 4]]),\n",
       " array([[1., 2., 3.],\n",
       "        [1., 2., 3.],\n",
       "        [1., 2., 3.]]))"
      ]
     },
     "execution_count": 17,
     "metadata": {},
     "output_type": "execute_result"
    }
   ],
   "source": [
    "a = np.arange(3)\n",
    "b = np.arange(3)[:, np.newaxis]\n",
    "a + 5, a + b, np.ones((3,3)) + a"
   ]
  },
  {
   "cell_type": "code",
   "execution_count": 18,
   "metadata": {},
   "outputs": [
    {
     "data": {
      "text/plain": [
       "array([ 2.77555756e-17,  4.62592927e-17, -2.77555756e-17, -5.55111512e-17])"
      ]
     },
     "execution_count": 18,
     "metadata": {},
     "output_type": "execute_result"
    }
   ],
   "source": [
    "np.random.seed(0)\n",
    "X = np.random.random((12, 4))\n",
    "Xmean = X.mean(axis=0)\n",
    "X_centred = X - Xmean\n",
    "X_centred.mean(0) # если среднее значение после операции центрирования близко к 0, то операция выполнена правильно"
   ]
  },
  {
   "cell_type": "code",
   "execution_count": 19,
   "metadata": {},
   "outputs": [
    {
     "data": {
      "text/plain": [
       "<matplotlib.colorbar.Colorbar at 0x27fffe224d0>"
      ]
     },
     "execution_count": 19,
     "metadata": {},
     "output_type": "execute_result"
    },
    {
     "data": {
      "image/png": "[encoded data removed]",
      "text/plain": [
       "<Figure size 640x480 with 2 Axes>"
      ]
     },
     "metadata": {},
     "output_type": "display_data"
    }
   ],
   "source": [
    "np.random.seed(0)\n",
    "x = np.linspace(1, 10, 35)\n",
    "y = np.linspace(1, 10, 35)[:, np.newaxis]\n",
    "z = np.sin(x) + np.cos(4 * y + 2 * x) + np.log10(y) * x\n",
    "plt.imshow(z, origin='lower', extent=[0, 5, 0, 5], cmap='viridis')\n",
    "plt.colorbar()"
   ]
  },
  {
   "attachments": {},
   "cell_type": "markdown",
   "metadata": {},
   "source": [
    "Первый индекс отностится к строкам, а второй к столбцам"
   ]
  },
  {
   "cell_type": "code",
   "execution_count": 20,
   "metadata": {},
   "outputs": [
    {
     "name": "stdout",
     "output_type": "stream",
     "text": [
      "[[False False  True  True]\n",
      " [ True False  True False]\n",
      " [False  True  True  True]\n",
      " [ True False  True  True]] [[ True  True False False]\n",
      " [False  True False  True]\n",
      " [ True False False False]\n",
      " [False  True False False]] [[ True  True  True  True]\n",
      " [ True  True  True  True]\n",
      " [ True  True  True  True]\n",
      " [ True  True  True  True]] [[False False False False]\n",
      " [False  True False  True]\n",
      " [False False False False]\n",
      " [False  True False False]] [[ True  True False False]\n",
      " [False  True False  True]\n",
      " [ True False False False]\n",
      " [False  True False False]]\n",
      "True True [[45 48 65 68]\n",
      " [68 10 84 22]\n",
      " [37 88 71 89]\n",
      " [89 13 59 66]]\n"
     ]
    },
    {
     "data": {
      "text/plain": [
       "(0, 16, 0)"
      ]
     },
     "execution_count": 20,
     "metadata": {},
     "output_type": "execute_result"
    }
   ],
   "source": [
    "np.random.seed(0)\n",
    "x = np.random.randint(1, 100, size=(4,4))\n",
    "print(x > 50, x < 50, x != 12, x + 35 > x * 2, np.less_equal(x, 50))\n",
    "np.count_nonzero(x > 50) # количество элементов больше 50 \n",
    "np.sum(x < 50, axis=1) # количество элементов меньше 50 по строкам\n",
    "print(np.any(x == 45), np.all( x > 0), x)\n",
    "np.sum((x > 90) & (x < 10)), np.sum((x <= 90) & (x >= 10)), np.sum(~((x != 10) | (x == 10))) # ~=не, |=или, &=и"
   ]
  },
  {
   "cell_type": "code",
   "execution_count": 21,
   "metadata": {},
   "outputs": [
    {
     "data": {
      "text/plain": [
       "26.0"
      ]
     },
     "execution_count": 21,
     "metadata": {},
     "output_type": "execute_result"
    }
   ],
   "source": [
    "np.random.seed(0)\n",
    "x = np.random.randint(1, 100, size=(4,4))\n",
    "x[x < 50] # элементы массива х проиндексированы значением True\n",
    "np.mean(x[(x < 50) & (x != 45)])"
   ]
  },
  {
   "cell_type": "code",
   "execution_count": 22,
   "metadata": {},
   "outputs": [
    {
     "name": "stdout",
     "output_type": "stream",
     "text": [
      "[60, 14, 74] [51 92 14 71 60 20 82 86 74 74] [60 14 74]\n",
      "[[71 86]\n",
      " [60 20]]\n",
      "15 [[ 0  1  2  3]\n",
      " [ 4  5  6  7]\n",
      " [ 8  9 10 11]\n",
      " [12 13 14 15]\n",
      " [16 17 18 19]]\n"
     ]
    },
    {
     "data": {
      "text/plain": [
       "array([[ 3,  2,  1],\n",
       "       [ 7,  6,  5],\n",
       "       [11, 10,  9]])"
      ]
     },
     "execution_count": 22,
     "metadata": {},
     "output_type": "execute_result"
    }
   ],
   "source": [
    "np.random.seed(0)\n",
    "rand = np.random.RandomState(42)\n",
    "x = rand.randint(100, size=10)\n",
    "ind = [4, 2, 9]\n",
    "print([x[4], x[2], x[9]], x,  x[ind])\n",
    "ind = np.array([[3, 7],\n",
    "               [4, 5]])\n",
    "print(x[ind])\n",
    "x = np.arange(20).reshape(5,4)\n",
    "print(x[3,3], x)\n",
    "x[np.array([0, 1, 2])[:, np.newaxis], np.array([3, 2, 1])]"
   ]
  },
  {
   "cell_type": "code",
   "execution_count": 23,
   "metadata": {},
   "outputs": [
    {
     "name": "stdout",
     "output_type": "stream",
     "text": [
      "(100, 2)\n"
     ]
    },
    {
     "name": "stderr",
     "output_type": "stream",
     "text": [
      "D:\\Users\\Professional\\AppData\\Local\\Temp\\ipykernel_8624\\1433397547.py:4: RuntimeWarning: covariance is not symmetric positive-semidefinite.\n",
      "  x = rand.multivariate_normal(mean, cov, 100)\n"
     ]
    },
    {
     "data": {
      "text/plain": [
       "<matplotlib.collections.PathCollection at 0x27fffed92d0>"
      ]
     },
     "execution_count": 23,
     "metadata": {},
     "output_type": "execute_result"
    },
    {
     "data": {
      "image/png": "[encoded data removed]",
      "text/plain": [
       "<Figure size 640x480 with 1 Axes>"
      ]
     },
     "metadata": {},
     "output_type": "display_data"
    }
   ],
   "source": [
    "mean = [0, 0]\n",
    "cov = [[1, 3],\n",
    "       [2, 4]]\n",
    "x = rand.multivariate_normal(mean, cov, 100)\n",
    "\n",
    "print(x.shape)\n",
    "indices = np.random.choice(x.shape[0], 20, replace=False) # выбор 20 случайных индексов без повторов\n",
    "selection = x[indices]\n",
    "plt.scatter(x[:, 0], x[:, 1], alpha=0.3)\n",
    "plt.scatter(selection[:, 0], selection[:, 1], facecolor='red', s=20)"
   ]
  },
  {
   "cell_type": "code",
   "execution_count": 24,
   "metadata": {},
   "outputs": [
    {
     "name": "stdout",
     "output_type": "stream",
     "text": [
      "[111 111 111 111  68  10  84  22  37  88]\n",
      "[-111  111 -111  111   68   10   84   22   37   88]\n"
     ]
    }
   ],
   "source": [
    "np.random.seed(0)\n",
    "x = np.random.randint(1, 100, size=10)\n",
    "i = np.array([0, 1, 2, 3])\n",
    "x[i] = 0\n",
    "x[i] += 111 # изменяем i элемент массива\n",
    "print(x)\n",
    "i = np.array([0, 0, 2, 2])\n",
    "np.add.at(x, i, -111) # производим операцию над i элементом массива 2 раза\n",
    "print(x)"
   ]
  },
  {
   "cell_type": "code",
   "execution_count": 25,
   "metadata": {},
   "outputs": [
    {
     "name": "stdout",
     "output_type": "stream",
     "text": [
      "-2.6197451040897444 1.8522781845089378\n"
     ]
    },
    {
     "data": {
      "text/plain": [
       "(array([ 0.,  0.,  0.,  0.,  0.,  0.,  1.,  0.,  0.,  2.,  2.,  1.,  4.,\n",
       "         4.,  3.,  4.,  9., 10., 11.,  8.,  7., 10.,  4.,  6.,  6.,  0.,\n",
       "         5.,  2.,  1.,  0.,  0.,  0.,  0.,  0.,  0.,  0.,  0.,  0.,  0.]),\n",
       " array([-4.        , -3.79487179, -3.58974359, -3.38461538, -3.17948718,\n",
       "        -2.97435897, -2.76923077, -2.56410256, -2.35897436, -2.15384615,\n",
       "        -1.94871795, -1.74358974, -1.53846154, -1.33333333, -1.12820513,\n",
       "        -0.92307692, -0.71794872, -0.51282051, -0.30769231, -0.1025641 ,\n",
       "         0.1025641 ,  0.30769231,  0.51282051,  0.71794872,  0.92307692,\n",
       "         1.12820513,  1.33333333,  1.53846154,  1.74358974,  1.94871795,\n",
       "         2.15384615,  2.35897436,  2.56410256,  2.76923077,  2.97435897,\n",
       "         3.17948718,  3.38461538,  3.58974359,  3.79487179,  4.        ]),\n",
       " [<matplotlib.patches.Polygon at 0x27ffff2e590>])"
      ]
     },
     "execution_count": 25,
     "metadata": {},
     "output_type": "execute_result"
    },
    {
     "data": {
      "image/png": "[encoded data removed]",
      "text/plain": [
       "<Figure size 640x480 with 1 Axes>"
      ]
     },
     "metadata": {},
     "output_type": "display_data"
    }
   ],
   "source": [
    "np.random.seed(42)\n",
    "x = np.random.randn(100)\n",
    "print(x.min(), x.max())\n",
    "bins = np.linspace(-4, 4, 40)\n",
    "counts = np.zeros_like(bins) # массив 0 размера как bins\n",
    "i = np.searchsorted(bins, x)\n",
    "np.add.at(counts, i, 1)\n",
    "plt.plot(bins, counts)\n",
    "plt.hist(x, bins, histtype='step')"
   ]
  },
  {
   "cell_type": "code",
   "execution_count": 26,
   "metadata": {},
   "outputs": [
    {
     "data": {
      "text/plain": [
       "(array([0.37454012, 0.95071431, 0.73199394, 0.59865848, 0.15601864,\n",
       "        0.15599452, 0.05808361, 0.86617615, 0.60111501, 0.70807258]),\n",
       " array([0.05808361, 0.15599452, 0.15601864, 0.37454012, 0.59865848,\n",
       "        0.60111501, 0.70807258, 0.73199394, 0.86617615, 0.95071431]),\n",
       " array([6, 5, 4, 0, 3, 8, 9, 2, 7, 1], dtype=int64),\n",
       " array([0.05808361, 0.15599452, 0.15601864, 0.37454012, 0.59865848,\n",
       "        0.60111501, 0.70807258, 0.73199394, 0.86617615, 0.95071431]))"
      ]
     },
     "execution_count": 26,
     "metadata": {},
     "output_type": "execute_result"
    }
   ],
   "source": [
    "np.random.seed(42)\n",
    "x0 = np.random.random(10)\n",
    "x1 = np.sort(x0) # сортирует х0 и склаывает новый массив в х1\n",
    "i = np.argsort(x0) # возвращает индексы отсортированных элементов х0\n",
    "#x0.sort() #  возвращает none,  сортирует x0 и при следущем вызове х0 выведется отсортированный массив\n",
    "x0, x1, i, x0[i]"
   ]
  },
  {
   "cell_type": "code",
   "execution_count": 27,
   "metadata": {},
   "outputs": [
    {
     "name": "stdout",
     "output_type": "stream",
     "text": [
      "[[ 52  93  15  72]\n",
      " [ 61  21  83  87]\n",
      " [ 75  75  88 100]\n",
      " [ 24   3  22  53]]\n"
     ]
    },
    {
     "data": {
      "text/plain": [
       "(array([[ 24,   3,  15,  53],\n",
       "        [ 52,  21,  22,  72],\n",
       "        [ 61,  75,  83,  87],\n",
       "        [ 75,  93,  88, 100]]),\n",
       " array([[ 15,  52,  72,  93],\n",
       "        [ 21,  61,  83,  87],\n",
       "        [ 75,  75,  88, 100],\n",
       "        [  3,  22,  24,  53]]))"
      ]
     },
     "execution_count": 27,
     "metadata": {},
     "output_type": "execute_result"
    }
   ],
   "source": [
    "rand = np.random.RandomState(42)\n",
    "x = rand.randint(1, 101, (4,4))\n",
    "print(x)\n",
    "x1 = np.sort(x, axis=0) # сортировка по значениям в столбцах (строки схлопнуты)\n",
    "x2 = np.sort(x, axis=1) # сортировка по значениям в строках\n",
    "x1, x2"
   ]
  },
  {
   "cell_type": "code",
   "execution_count": 28,
   "metadata": {},
   "outputs": [
    {
     "name": "stdout",
     "output_type": "stream",
     "text": [
      "[ 2  1  3  4  5  6  7  8  9 18 12 10]\n"
     ]
    },
    {
     "data": {
      "text/plain": [
       "array([[45, 48, 65, 68],\n",
       "       [10, 22, 68, 84],\n",
       "       [37, 71, 88, 89],\n",
       "       [13, 59, 66, 89]])"
      ]
     },
     "execution_count": 28,
     "metadata": {},
     "output_type": "execute_result"
    }
   ],
   "source": [
    "x = np.array([3, 5, 6, 8, 9, 1, 2, 4, 7, 18, 12, 10])\n",
    "print(np.partition(x, 4)) # первые 4 элемента в новом массиве это наименьшие элементы, а остальные стоят в произвольном порядке\n",
    "np.random.seed(0)\n",
    "x = np.random.randint(1, 100, size=(4,4))\n",
    "np.partition(x, 2, axis=1) # первые 2 позициии в каждом столбце наименьшие"
   ]
  },
  {
   "attachments": {},
   "cell_type": "markdown",
   "metadata": {},
   "source": [
    "K ближфаших соседей"
   ]
  },
  {
   "cell_type": "code",
   "execution_count": 46,
   "metadata": {},
   "outputs": [
    {
     "name": "stdout",
     "output_type": "stream",
     "text": [
      "[[45 48]\n",
      " [65 68]\n",
      " [68 10]\n",
      " [84 22]\n",
      " [37 88]\n",
      " [71 89]\n",
      " [89 13]\n",
      " [59 66]\n",
      " [40 88]\n",
      " [47 89]\n",
      " [82 38]\n",
      " [26 78]\n",
      " [73 10]\n",
      " [21 81]\n",
      " [70 80]] [45 65 68 84 37 71 89 59 40 47 82 26 73 21 70] [48 68 10 22 88 89 13 66 88 89 38 78 10 81 80]\n",
      "[[ 0  7  1 11 10  8 14  4 13  9  2  3 12  5  6]\n",
      " [ 1  7 14  5  9  0  8  4 10 11 13  3  2 12  6]\n",
      " [ 2 12  3  6 10  0  7  1 14  5 11  9  8  4 13]\n",
      " [ 3  6 10 12  2  0  1  7 14  5  9  8 11  4 13]\n",
      " [ 4  8  9 11 13  7 14  5  1  0 10  3  2 12  6]\n",
      " [ 5 14  1  9  7  8  4 11  0 13 10  3  6 12  2]\n",
      " [ 6  3 12  2 10  0  1  7 14  5  9  8 11  4 13]\n",
      " [ 7  1 14  0  5  9  8  4 11 10 13  3  2 12  6]\n",
      " [ 8  4  9 11 13  7  5 14  1  0 10  3  2 12  6]\n",
      " [ 9  8  4 11  5 14  7 13  1  0 10  3  2 12  6]\n",
      " [10  3  6 12  2  1  7  0 14  5  9  8  4 11 13]\n",
      " [11 13  4  8  9  7  0  1 14  5 10  2  3 12  6]\n",
      " [12  2  3  6 10  0  7  1 14  5 11  9  8  4 13]\n",
      " [13 11  4  8  9  0  7  1 14  5 10  2  3 12  6]\n",
      " [14  5  1  7  9  8  4  0 10 11 13  3  6  2 12]]\n",
      "[[ 0  7  1 11 10  8 14  6  3  9  5  4 12 13  2]\n",
      " [ 1  7 14  5  9  0  8  2  4  6 10 11 12 13  3]\n",
      " [ 3  2 12  6  0 10  7  1  8  9  5 11  4 13 14]\n",
      " [ 3  6 10 12  2  0  1  7  8  9  5 11  4 13 14]\n",
      " [ 4  8  9 11 13  7 14  1  6  5 10  3 12  2  0]\n",
      " [ 5 14  1  9  7  4  6  3  8  2 10 11 12 13  0]\n",
      " [ 6  3 12  2  0 10  1  7  8  9  5 11  4 13 14]\n",
      " [ 1  7 14  0  9  5  8  2  4  6 10 11 12 13  3]\n",
      " [ 4  8  9 11 13  5  7 14  1  6 10  3 12  2  0]\n",
      " [ 9  8  4 11 14  5  7  1  6  3 10  2 12 13  0]\n",
      " [10  3  6 12  2  1  7  0  8  9  5 11  4 13 14]\n",
      " [11 13  4  8  7  9  0  1  6  5 10  3 12  2 14]\n",
      " [12  2  6  3 10  0  7  1  8  9  5 11  4 13 14]\n",
      " [11 13  4  8  0  9  7  1  6  5 10  3 12  2 14]\n",
      " [ 5 14  1  7  4  3  6  2  8  9 10 11 12 13  0]]\n"
     ]
    },
    {
     "data": {
      "image/png": "[encoded data removed]",
      "text/plain": [
       "<Figure size 640x480 with 1 Axes>"
      ]
     },
     "metadata": {},
     "output_type": "display_data"
    }
   ],
   "source": [
    "np.random.seed(0)\n",
    "x = np.random.randint(1, 100, size=(15,2))\n",
    "# x[:, 0] копируем все элементы(подмассивчики) массива, и выбираем из каждого подмассивчика первый\n",
    "plt.scatter(x[:, 0], x[:, 1])\n",
    "print(x, x[:, 0], x[:, 1])\n",
    "# x[:, np.newaxis] это складывает каждый элемент массива в отдельный подмассивчик формируя вектор столбец [1, 2] -> [[1], [2]] \n",
    "#x[:, np.newaxis, :], x[:, np.newaxis, :].shape, x[:, np.newaxis].shape\n",
    "diff = x[:, np.newaxis] - x[np.newaxis, :]\n",
    "'''np.newaxis - это специальный объект в numpy, который добавляет новое измерение в массив. \n",
    "В данном случае, когда мы используем x[:, np.newaxis], мы добавляем новое измерение в массив x, чтобы получить массив формы (15, 1, 2).\n",
    "А когда мы используем x[np.newaxis, :], мы добавляем новое измерение в конец массива x, чтобы получить массив формы (1, 15, 2).\n",
    "Это нужно для того, чтобы мы могли выполнить операции между двумя массивами разных форм.\n",
    "Например, при вычитании x[:, np.newaxis] - x[np.newaxis, :], мы получаем массив diff формы (15, 15, 2), где каждый элемент diff[i,j,:] \n",
    "равен разности между i-ым и j-ым элементами массива x.\n",
    "Таким образом, использование np.newaxis позволяет нам удобно работать с многомерными массивами и выполнять операции между ними'''\n",
    "diff, diff.shape\n",
    "sq_diff = diff ** 2\n",
    "dist_sq = sq_diff.sum(-1)\n",
    "dist_sq.shape\n",
    "dist_sq.diagonal()\n",
    "nearest = np.argsort(dist_sq, axis=1)\n",
    "print(nearest)\n",
    "K = 2\n",
    "nearest_partition = np.argpartition(dist_sq, K + 1, axis=1)\n",
    "print(nearest_partition)\n",
    "for i in range(x.shape[0]):\n",
    "               for j in nearest_partition[i, :K + 1]:\n",
    "                       plt.plot(*zip(x[j], x[i]))\n",
    "'''Этот код использует библиотеку NumPy для создания случайного массива x размером 15х2, заполненного случайными целыми числами от 1 до 100.\n",
    " Затем он строит диаграмму рассеяния, используя первый столбец массива x как координаты по оси x и второй столбец как координаты по оси y.\n",
    "\n",
    "Далее код создает массив diff, который вычисляет разницу между каждой парой точек в массиве x. Это делается путем вычитания каждого элемента\n",
    " массива x из каждого другого элемента массива x. Таким образом, diff[i, j] содержит разницу между точкой x[i] и точкой x[j].\n",
    "\n",
    "Затем код вычисляет квадрат каждого элемента в массиве diff и суммирует квадраты по последней оси (ось 1). Это дает массив dist_sq,\n",
    " который содержит квадрат расстояния между каждой парой точек в массиве x.\n",
    "\n",
    "Код затем использует функцию argsort для сортировки массива dist_sq в порядке возрастания расстояний между точками. Результатом \n",
    "является массив nearest, где nearest[i, j] содержит индекс ближайшей точки к точке x[i].\n",
    "\n",
    "Далее код использует функцию argpartition, чтобы найти K + 1 ближайших соседей для каждой точки в массиве x. Результатом \n",
    "является массив nearest_partition, где nearest_partition[i, :K + 1] содержит индексы K + 1 ближайших соседей для точки x[i].\n",
    "\n",
    "Наконец, код использует цикл, чтобы нарисовать линии между каждой точкой в массиве x и ее K ближайшими соседями. Это делается \n",
    "путем вызова функции plot для каждой пары точек в массиве x и ее ближайших соседей из массива nearest_partition.'''"
   ]
  },
  {
   "cell_type": "code",
   "execution_count": 56,
   "metadata": {},
   "outputs": [
    {
     "name": "stdout",
     "output_type": "stream",
     "text": [
      "[('', 0, 0.) ('', 0, 0.) ('', 0, 0.) ('', 0, 0.)] [('name', '<U10'), ('age', '<i4'), ('weight', '<f8')]\n",
      "[('A', 34, 56.5) ('B', 45, 98. ) ('C', 56, 45. ) ('D', 76, 68.5)] [56.5 98.  45.  68.5] ['C' 'D']\n",
      "[(0, [[0., 0., 0.], [0., 0., 0.], [0., 0., 0.]])] [[0. 0. 0.]\n",
      " [0. 0. 0.]\n",
      " [0. 0. 0.]]\n"
     ]
    },
    {
     "data": {
      "text/plain": [
       "(array([34, 45, 56, 76]),\n",
       " rec.array([('A', 34, 56.5), ('B', 45, 98. ), ('C', 56, 45. ),\n",
       "            ('D', 76, 68.5)],\n",
       "           dtype=[('name', '<U10'), ('age', '<i4'), ('weight', '<f8')]))"
      ]
     },
     "execution_count": 56,
     "metadata": {},
     "output_type": "execute_result"
    }
   ],
   "source": [
    "name = ['A', 'B', 'C', 'D']\n",
    "age = [34, 45, 56, 76]\n",
    "weight = [56.5, 98.0, 45.0, 68.5]\n",
    "data = np.zeros(4, dtype={'names':('name', 'age', 'weight'), 'formats': ('U10', 'i4', 'f8')})\n",
    "print(data, data.dtype) # мы создали пустой массив контейнер\n",
    "data['name'] = name\n",
    "data['age'] = age\n",
    "data['weight'] = weight\n",
    "print(data, data['weight'], data[data['age'] > 50]['name'])\n",
    "tp = np.dtype([('id', 'i8'), ('mat', 'f8', (3, 3))]) # тип данных mat,  состоящий из матрицы 3х3 и значений float\n",
    "x = np.zeros(1, dtype=tp)\n",
    "print(x, x['mat'][0]) # каждый элемент массива х состоит из целого числа и матрицы 3х3\n",
    "data_rec = data.view(np.recarray) # то же что и выше но покороче\n",
    "data_rec.age, data_rec\n"
   ]
  }
 ],
 "metadata": {
  "kernelspec": {
   "display_name": "Python 3",
   "language": "python",
   "name": "python3"
  },
  "language_info": {
   "codemirror_mode": {
    "name": "ipython",
    "version": 3
   },
   "file_extension": ".py",
   "mimetype": "text/x-python",
   "name": "python",
   "nbconvert_exporter": "python",
   "pygments_lexer": "ipython3",
   "version": "3.11.1"
  },
  "orig_nbformat": 4
 },
 "nbformat": 4,
 "nbformat_minor": 2
}

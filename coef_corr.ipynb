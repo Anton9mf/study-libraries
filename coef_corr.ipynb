{
 "cells": [
  {
   "cell_type": "code",
   "execution_count": 9,
   "metadata": {},
   "outputs": [
    {
     "name": "stdout",
     "output_type": "stream",
     "text": [
      "-1.0\n"
     ]
    }
   ],
   "source": [
    "x = [4, 5, 2, 3, 1]\n",
    "y = [2, 1, 4, 3, 5]\n",
    "xy = [x, y]\n",
    "import numpy as np\n",
    "# посчитаем коэффицент корреляции\n",
    "for i in range(len(x)):\n",
    "    r = []\n",
    "    r.append((x[i] - np.mean(x))*(y[i] - np.mean(y)))\n",
    "print(sum(r)/(len(x)-1))\n",
    "    "
   ]
  }
 ],
 "metadata": {
  "kernelspec": {
   "display_name": "Python 3",
   "language": "python",
   "name": "python3"
  },
  "language_info": {
   "codemirror_mode": {
    "name": "ipython",
    "version": 3
   },
   "file_extension": ".py",
   "mimetype": "text/x-python",
   "name": "python",
   "nbconvert_exporter": "python",
   "pygments_lexer": "ipython3",
   "version": "3.11.1"
  },
  "orig_nbformat": 4
 },
 "nbformat": 4,
 "nbformat_minor": 2
}
